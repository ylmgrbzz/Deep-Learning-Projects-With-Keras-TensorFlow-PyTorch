{
  "nbformat": 4,
  "nbformat_minor": 0,
  "metadata": {
    "colab": {
      "provenance": [],
      "authorship_tag": "ABX9TyP7zqkm/YJkrMPcycvHt5y9",
      "include_colab_link": true
    },
    "kernelspec": {
      "name": "python3",
      "display_name": "Python 3"
    },
    "language_info": {
      "name": "python"
    },
    "accelerator": "GPU"
  },
  "cells": [
    {
      "cell_type": "markdown",
      "metadata": {
        "id": "view-in-github",
        "colab_type": "text"
      },
      "source": [
        "<a href=\"https://colab.research.google.com/github/ylmgrbzz/Deep-Learning-Projects-With-Keras-TensorFlow-PyTorch/blob/main/Noise_Cancellation_with_Autocodes_Encoded_Decoded.ipynb\" target=\"_parent\"><img src=\"https://colab.research.google.com/assets/colab-badge.svg\" alt=\"Open In Colab\"/></a>"
      ]
    },
    {
      "cell_type": "code",
      "execution_count": 1,
      "metadata": {
        "colab": {
          "base_uri": "https://localhost:8080/"
        },
        "id": "Uy5eSVMkBbdk",
        "outputId": "7fec6999-518b-48f0-e551-5216f2300634"
      },
      "outputs": [
        {
          "output_type": "stream",
          "name": "stdout",
          "text": [
            "Drive already mounted at /gdrive; to attempt to forcibly remount, call drive.mount(\"/gdrive\", force_remount=True).\n",
            "/gdrive\n"
          ]
        }
      ],
      "source": [
        "from google.colab import drive\n",
        "drive.mount('/gdrive')\n",
        "%cd /gdrive"
      ]
    },
    {
      "cell_type": "code",
      "source": [
        "from keras.layers import Input, Dense, Conv2D, MaxPooling2D, UpSampling2D\n",
        "from keras.models import Model\n",
        "from keras.callbacks import TensorBoard\n",
        "from keras.datasets import mnist\n",
        "import numpy as np\n",
        "from keras import backend as K\n",
        "import matplotlib.pyplot as plt"
      ],
      "metadata": {
        "id": "0w_fjyxcBpDF"
      },
      "execution_count": 2,
      "outputs": []
    },
    {
      "cell_type": "code",
      "source": [
        "(x_train, _), (x_test, _) = mnist.load_data()\n"
      ],
      "metadata": {
        "colab": {
          "base_uri": "https://localhost:8080/"
        },
        "id": "sGj88ogTCgwX",
        "outputId": "21aa46fb-76fe-4ef3-ac23-eea3161ef590"
      },
      "execution_count": 8,
      "outputs": [
        {
          "output_type": "stream",
          "name": "stdout",
          "text": [
            "Downloading data from https://storage.googleapis.com/tensorflow/tf-keras-datasets/mnist.npz\n",
            "11490434/11490434 [==============================] - 0s 0us/step\n"
          ]
        }
      ]
    },
    {
      "cell_type": "code",
      "source": [
        "x_train = x_train.astype('float32') / 255\n",
        "x_test = x_test.astype('float32') / 255\n",
        "\n",
        "x_train = np.reshape (x_train, (len(x_train), 28, 28, 1))\n",
        "x_test =  np.reshape (x_test, (len(x_test), 28, 28, 1))"
      ],
      "metadata": {
        "id": "gWlbx0qwC2Ou"
      },
      "execution_count": 9,
      "outputs": []
    },
    {
      "cell_type": "code",
      "source": [
        "print('Eğtiim',x_train.shape)\n",
        "print('Test', x_test.shape)"
      ],
      "metadata": {
        "colab": {
          "base_uri": "https://localhost:8080/"
        },
        "id": "-dIjZ6lFC5Ky",
        "outputId": "7d0dc4fa-b86d-4646-8b58-15882aad2c95"
      },
      "execution_count": 10,
      "outputs": [
        {
          "output_type": "stream",
          "name": "stdout",
          "text": [
            "Eğtiim (60000, 28, 28, 1)\n",
            "Test (10000, 28, 28, 1)\n"
          ]
        }
      ]
    },
    {
      "cell_type": "code",
      "source": [
        "noise_factor=0.5"
      ],
      "metadata": {
        "id": "HewGFZxGC_NO"
      },
      "execution_count": 12,
      "outputs": []
    },
    {
      "cell_type": "code",
      "source": [
        "x_train_noisy = x_train + noise_factor * np.random.normal(loc = 0.0, scale = 1.0, size = x_train.shape)\n",
        "x_test_noisy = x_test + noise_factor * np.random.normal(loc = 0.0, scale = 1.0, size = x_test.shape)\n",
        "\n",
        "x_train_noisy = np.clip(x_train_noisy, 0. ,1.)\n",
        "x_test_noisy = np.clip(x_test_noisy, 0. ,1.)"
      ],
      "metadata": {
        "id": "wtGKofs3DCgh"
      },
      "execution_count": 13,
      "outputs": []
    },
    {
      "cell_type": "code",
      "source": [
        "\n",
        "n = 10\n",
        "\n",
        "plt.figure(figsize = (25,4))\n",
        "\n",
        "for i in range(n):\n",
        "  ax = plt.subplot(2, n, i+1)\n",
        "  plt.imshow(x_test_noisy[i].reshape(28,28))\n",
        "  plt.gray()\n",
        "  ax.get_xaxis().set_visible(False)\n",
        "  ax.get_yaxis().set_visible(False)\n",
        "plt.show()"
      ],
      "metadata": {
        "colab": {
          "base_uri": "https://localhost:8080/",
          "height": 109
        },
        "id": "Nh_bgjypDCvc",
        "outputId": "1b1d6058-3fec-4c03-fa97-a260bc1b5cab"
      },
      "execution_count": 14,
      "outputs": [
        {
          "output_type": "display_data",
          "data": {
            "text/plain": [
              "<Figure size 1800x288 with 10 Axes>"
            ],
            "image/png": "[encoded data removed]"
          },
          "metadata": {
            "needs_background": "light"
          }
        }
      ]
    },
    {
      "cell_type": "code",
      "source": [
        "input_img = Input(shape = (28, 28, 1))\n",
        "\n",
        "x = Conv2D(32, (3,3), activation='relu', padding='same')(input_img)\n",
        "\n",
        "x = MaxPooling2D((2,2), padding='same')(x)\n",
        "\n",
        "x = Conv2D(32, (3,3), activation='relu', padding='same')(x)\n",
        "\n",
        "encoded = MaxPooling2D((2,2), padding='same')(x)"
      ],
      "metadata": {
        "id": "tTidpKOsDOxg"
      },
      "execution_count": 15,
      "outputs": []
    },
    {
      "cell_type": "code",
      "source": [
        "x = Conv2D(32, (3,3), activation='relu', padding='same')(encoded)\n",
        "\n",
        "x = UpSampling2D((2,2))(x)\n",
        "\n",
        "x = Conv2D(32, (3,3), activation='relu', padding='same')(x)\n",
        "\n",
        "x = UpSampling2D((2,2))(x)\n",
        "\n",
        "decoded = Conv2D(1, (3,3), activation='sigmoid', padding='same')(x)"
      ],
      "metadata": {
        "id": "HnCAa3SVDt_w"
      },
      "execution_count": 19,
      "outputs": []
    },
    {
      "cell_type": "code",
      "source": [
        "autoencoder = Model(input_img, decoded)\n",
        "autoencoder.compile(optimizer='adadelta', loss='binary_crossentropy')"
      ],
      "metadata": {
        "id": "Gtq8Y_2DEhK6"
      },
      "execution_count": 20,
      "outputs": []
    },
    {
      "cell_type": "code",
      "source": [
        "autoencoder.fit(x_train_noisy, x_train,\n",
        "                epochs=10,\n",
        "                batch_size=128,\n",
        "                shuffle=True,\n",
        "                validation_data=(x_test_noisy, x_test),\n",
        "                callbacks=[TensorBoard(log_dir='/tmp/tb', histogram_freq=0, write_graph=False)])"
      ],
      "metadata": {
        "colab": {
          "base_uri": "https://localhost:8080/"
        },
        "id": "-PPw--OqEnJ6",
        "outputId": "e72549fe-db0c-4c39-f7f5-a3ee36099378"
      },
      "execution_count": 21,
      "outputs": [
        {
          "output_type": "stream",
          "name": "stdout",
          "text": [
            "Epoch 1/10\n",
            "469/469 [==============================] - 13s 9ms/step - loss: 0.6945 - val_loss: 0.6795\n",
            "Epoch 2/10\n",
            "469/469 [==============================] - 4s 7ms/step - loss: 0.6618 - val_loss: 0.6417\n",
            "Epoch 3/10\n",
            "469/469 [==============================] - 3s 7ms/step - loss: 0.6104 - val_loss: 0.5747\n",
            "Epoch 4/10\n",
            "469/469 [==============================] - 4s 8ms/step - loss: 0.5390 - val_loss: 0.5178\n",
            "Epoch 5/10\n",
            "469/469 [==============================] - 3s 7ms/step - loss: 0.5067 - val_loss: 0.5045\n",
            "Epoch 6/10\n",
            "469/469 [==============================] - 4s 8ms/step - loss: 0.4966 - val_loss: 0.4960\n",
            "Epoch 7/10\n",
            "469/469 [==============================] - 3s 7ms/step - loss: 0.4884 - val_loss: 0.4880\n",
            "Epoch 8/10\n",
            "469/469 [==============================] - 4s 8ms/step - loss: 0.4804 - val_loss: 0.4799\n",
            "Epoch 9/10\n",
            "469/469 [==============================] - 4s 7ms/step - loss: 0.4720 - val_loss: 0.4707\n",
            "Epoch 10/10\n",
            "469/469 [==============================] - 4s 7ms/step - loss: 0.4625 - val_loss: 0.4608\n"
          ]
        },
        {
          "output_type": "execute_result",
          "data": {
            "text/plain": [
              "<keras.callbacks.History at 0x7fdc50082b90>"
            ]
          },
          "metadata": {},
          "execution_count": 21
        }
      ]
    },
    {
      "cell_type": "code",
      "source": [
        "decoded_imgs = autoencoder.predict(x_test)\n"
      ],
      "metadata": {
        "colab": {
          "base_uri": "https://localhost:8080/"
        },
        "id": "0R89uThMEo9l",
        "outputId": "632cd0ae-1360-4a3b-e67f-f7df9ce71c01"
      },
      "execution_count": 22,
      "outputs": [
        {
          "output_type": "stream",
          "name": "stdout",
          "text": [
            "313/313 [==============================] - 1s 2ms/step\n"
          ]
        }
      ]
    },
    {
      "cell_type": "code",
      "source": [
        "%matplotlib inline\n",
        "n=10\n",
        "\n",
        "plt.figure(figsize=(25,4))\n",
        "for i in range(n):\n",
        "  ax=plt.subplot(2,n,i+1)\n",
        "  plt.imshow(decoded_imgs[i].reshape(28,28))\n",
        "  plt.gray()\n",
        "  ax.get_xaxis().set_visible(False)\n",
        "  ax.get_yaxis().set_visible(False)\n",
        "plt.show()\n",
        "  "
      ],
      "metadata": {
        "colab": {
          "base_uri": "https://localhost:8080/",
          "height": 109
        },
        "id": "yDrK5v-UE6_r",
        "outputId": "138c8814-2fd0-4b24-da59-455b9b48e6c8"
      },
      "execution_count": 26,
      "outputs": [
        {
          "output_type": "display_data",
          "data": {
            "text/plain": [
              "<Figure size 1800x288 with 10 Axes>"
            ],
            "image/png": "[encoded data removed]"
          },
          "metadata": {
            "needs_background": "light"
          }
        }
      ]
    },
    {
      "cell_type": "code",
      "source": [],
      "metadata": {
        "id": "a89E8P7wFatv"
      },
      "execution_count": null,
      "outputs": []
    }
  ]
}