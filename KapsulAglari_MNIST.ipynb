{
  "nbformat": 4,
  "nbformat_minor": 0,
  "metadata": {
    "colab": {
      "provenance": [],
      "collapsed_sections": [],
      "include_colab_link": true
    },
    "kernelspec": {
      "name": "python3",
      "display_name": "Python 3"
    },
    "accelerator": "GPU"
  },
  "cells": [
    {
      "cell_type": "markdown",
      "metadata": {
        "id": "view-in-github",
        "colab_type": "text"
      },
      "source": [
        "<a href=\"https://colab.research.google.com/github/ylmgrbzz/Deep-Learning-Projects-With-Keras-TensorFlow-PyTorch/blob/main/KapsulAglari_MNIST.ipynb\" target=\"_parent\"><img src=\"https://colab.research.google.com/assets/colab-badge.svg\" alt=\"Open In Colab\"/></a>"
      ]
    },
    {
      "metadata": {
        "id": "D5qDDAYYGJdO"
      },
      "cell_type": "code",
      "source": [
        "from __future__ import division, print_function, unicode_literals"
      ],
      "execution_count": null,
      "outputs": []
    },
    {
      "metadata": {
        "id": "IYLVW0MXJmG_"
      },
      "cell_type": "code",
      "source": [
        "%matplotlib inline\n",
        "import matplotlib\n",
        "import matplotlib.pyplot as plt"
      ],
      "execution_count": null,
      "outputs": []
    },
    {
      "metadata": {
        "id": "s3qkC-hlLtAx"
      },
      "cell_type": "code",
      "source": [
        "import numpy as np\n",
        "import tensorflow as tf"
      ],
      "execution_count": null,
      "outputs": []
    },
    {
      "metadata": {
        "id": "uog84hVBL29-"
      },
      "cell_type": "code",
      "source": [
        "tf.reset_default_graph()"
      ],
      "execution_count": null,
      "outputs": []
    },
    {
      "metadata": {
        "id": "fuTFKFgTMjTL"
      },
      "cell_type": "code",
      "source": [
        "np.random.seed(42)\n",
        "tf.set_random_seed(42)"
      ],
      "execution_count": null,
      "outputs": []
    },
    {
      "metadata": {
        "id": "Llf4zUc4Mk75",
        "colab": {
          "base_uri": "https://localhost:8080/",
          "height": 360
        },
        "outputId": "c1f4fb6a-8bd1-4b6a-e41a-7eceec7998a5"
      },
      "cell_type": "code",
      "source": [
        "from tensorflow.examples.tutorials.mnist import input_data\n",
        "\n",
        "mnist = input_data.read_data_sets(\"/tmp/data/\")"
      ],
      "execution_count": null,
      "outputs": [
        {
          "output_type": "stream",
          "text": [
            "WARNING:tensorflow:From <ipython-input-6-4141630e56b4>:3: read_data_sets (from tensorflow.contrib.learn.python.learn.datasets.mnist) is deprecated and will be removed in a future version.\n",
            "Instructions for updating:\n",
            "Please use alternatives such as official/mnist/dataset.py from tensorflow/models.\n",
            "WARNING:tensorflow:From /usr/local/lib/python3.6/dist-packages/tensorflow/contrib/learn/python/learn/datasets/mnist.py:260: maybe_download (from tensorflow.contrib.learn.python.learn.datasets.base) is deprecated and will be removed in a future version.\n",
            "Instructions for updating:\n",
            "Please write your own downloading logic.\n",
            "WARNING:tensorflow:From /usr/local/lib/python3.6/dist-packages/tensorflow/contrib/learn/python/learn/datasets/mnist.py:262: extract_images (from tensorflow.contrib.learn.python.learn.datasets.mnist) is deprecated and will be removed in a future version.\n",
            "Instructions for updating:\n",
            "Please use tf.data to implement this functionality.\n",
            "Extracting /tmp/data/train-images-idx3-ubyte.gz\n",
            "WARNING:tensorflow:From /usr/local/lib/python3.6/dist-packages/tensorflow/contrib/learn/python/learn/datasets/mnist.py:267: extract_labels (from tensorflow.contrib.learn.python.learn.datasets.mnist) is deprecated and will be removed in a future version.\n",
            "Instructions for updating:\n",
            "Please use tf.data to implement this functionality.\n",
            "Extracting /tmp/data/train-labels-idx1-ubyte.gz\n",
            "Extracting /tmp/data/t10k-images-idx3-ubyte.gz\n",
            "Extracting /tmp/data/t10k-labels-idx1-ubyte.gz\n",
            "WARNING:tensorflow:From /usr/local/lib/python3.6/dist-packages/tensorflow/contrib/learn/python/learn/datasets/mnist.py:290: DataSet.__init__ (from tensorflow.contrib.learn.python.learn.datasets.mnist) is deprecated and will be removed in a future version.\n",
            "Instructions for updating:\n",
            "Please use alternatives such as official/mnist/dataset.py from tensorflow/models.\n"
          ],
          "name": "stdout"
        }
      ]
    },
    {
      "metadata": {
        "id": "9rJXaTe2NVR6",
        "colab": {
          "base_uri": "https://localhost:8080/",
          "height": 146
        },
        "outputId": "bbbf5c44-b97e-46e0-d880-e0e7fc2de7a3"
      },
      "cell_type": "code",
      "source": [
        "n_samples = 5\n",
        "\n",
        "plt.figure(figsize=(n_samples * 2, 3))\n",
        "for index in range(n_samples):\n",
        "    plt.subplot(1, n_samples, index + 1)\n",
        "    sample_image = mnist.train.images[index].reshape(28, 28)\n",
        "    plt.imshow(sample_image, cmap=\"binary\")\n",
        "    plt.axis(\"off\")\n",
        "\n",
        "plt.show()"
      ],
      "execution_count": null,
      "outputs": [
        {
          "output_type": "display_data",
          "data": {
            "image/png": "[encoded data removed]",
            "text/plain": [
              "<matplotlib.figure.Figure at 0x7f820a69f4e0>"
            ]
          },
          "metadata": {
            "tags": []
          }
        }
      ]
    },
    {
      "metadata": {
        "id": "4kDHFQvTNeAs",
        "colab": {
          "base_uri": "https://localhost:8080/",
          "height": 34
        },
        "outputId": "b81d3182-8bc3-41fb-fe1b-d725ee4804d9"
      },
      "cell_type": "code",
      "source": [
        "mnist.train.labels[:n_samples]"
      ],
      "execution_count": null,
      "outputs": [
        {
          "output_type": "execute_result",
          "data": {
            "text/plain": [
              "array([7, 3, 4, 6, 1], dtype=uint8)"
            ]
          },
          "metadata": {
            "tags": []
          },
          "execution_count": 8
        }
      ]
    },
    {
      "metadata": {
        "id": "Q1CEZP8gNr_U"
      },
      "cell_type": "code",
      "source": [
        "X = tf.placeholder(shape=[None, 28, 28, 1], dtype=tf.float32, name=\"X\")"
      ],
      "execution_count": null,
      "outputs": []
    },
    {
      "metadata": {
        "id": "-0VhcHF6O6-D"
      },
      "cell_type": "code",
      "source": [
        "caps1_n_maps = 32\n",
        "caps1_n_caps = caps1_n_maps * 6 * 6  \n",
        "caps1_n_dims = 8"
      ],
      "execution_count": null,
      "outputs": []
    },
    {
      "metadata": {
        "id": "RXqWKhhCQr_s"
      },
      "cell_type": "code",
      "source": [
        "conv1_params = {\n",
        "    \"filters\": 256,\n",
        "    \"kernel_size\": 9,\n",
        "    \"strides\": 1,\n",
        "    \"padding\": \"valid\",\n",
        "    \"activation\": tf.nn.relu,\n",
        "}\n",
        "\n",
        "conv2_params = {\n",
        "    \"filters\": caps1_n_maps * caps1_n_dims, \n",
        "    \"kernel_size\": 9,\n",
        "    \"strides\": 2,\n",
        "    \"padding\": \"valid\",\n",
        "    \"activation\": tf.nn.relu\n",
        "}"
      ],
      "execution_count": null,
      "outputs": []
    },
    {
      "metadata": {
        "id": "kXant_teQua3"
      },
      "cell_type": "code",
      "source": [
        "conv1 = tf.layers.conv2d(X, name=\"conv1\", **conv1_params)\n",
        "conv2 = tf.layers.conv2d(conv1, name=\"conv2\", **conv2_params)"
      ],
      "execution_count": null,
      "outputs": []
    },
    {
      "metadata": {
        "id": "R4iCxb1yQzVo"
      },
      "cell_type": "code",
      "source": [
        "caps1_raw = tf.reshape(conv2, [-1, caps1_n_caps, caps1_n_dims],\n",
        "                       name=\"caps1_raw\")"
      ],
      "execution_count": null,
      "outputs": []
    },
    {
      "metadata": {
        "id": "G4IC9JNIZ3MP"
      },
      "cell_type": "code",
      "source": [
        "def squash(s, axis=-1, epsilon=1e-7, name=None):\n",
        "    with tf.name_scope(name, default_name=\"squash\"):\n",
        "        squared_norm = tf.reduce_sum(tf.square(s), axis=axis,\n",
        "                                     keep_dims=True)\n",
        "        safe_norm = tf.sqrt(squared_norm + epsilon)\n",
        "        squash_factor = squared_norm / (1. + squared_norm)\n",
        "        unit_vector = s / safe_norm\n",
        "        return squash_factor * unit_vector"
      ],
      "execution_count": null,
      "outputs": []
    },
    {
      "metadata": {
        "id": "nn0sP6FxZ_PZ",
        "colab": {
          "base_uri": "https://localhost:8080/",
          "height": 88
        },
        "outputId": "6beca668-82f2-418c-df2e-fe6ce0ddc8fa"
      },
      "cell_type": "code",
      "source": [
        "caps1_output = squash(caps1_raw, name=\"caps1_output\")"
      ],
      "execution_count": null,
      "outputs": [
        {
          "output_type": "stream",
          "text": [
            "WARNING:tensorflow:From <ipython-input-14-8037c6cbfef1>:4: calling reduce_sum (from tensorflow.python.ops.math_ops) with keep_dims is deprecated and will be removed in a future version.\n",
            "Instructions for updating:\n",
            "keep_dims is deprecated, use keepdims instead\n"
          ],
          "name": "stdout"
        }
      ]
    },
    {
      "metadata": {
        "id": "GbvbamecaRQQ"
      },
      "cell_type": "code",
      "source": [
        "caps2_n_caps = 10\n",
        "caps2_n_dims = 16"
      ],
      "execution_count": null,
      "outputs": []
    },
    {
      "metadata": {
        "id": "_7EHDvawhn-e"
      },
      "cell_type": "code",
      "source": [
        "init_sigma = 0.1\n",
        "\n",
        "W_init = tf.random_normal(\n",
        "    shape=(1, caps1_n_caps, caps2_n_caps, caps2_n_dims, caps1_n_dims),\n",
        "    stddev=init_sigma, dtype=tf.float32, name=\"W_init\")\n",
        "W = tf.Variable(W_init, name=\"W\")"
      ],
      "execution_count": null,
      "outputs": []
    },
    {
      "metadata": {
        "id": "5wqVPjCklWuc"
      },
      "cell_type": "code",
      "source": [
        "batch_size = tf.shape(X)[0]\n",
        "W_tiled = tf.tile(W, [batch_size, 1, 1, 1, 1], name=\"W_tiled\")"
      ],
      "execution_count": null,
      "outputs": []
    },
    {
      "metadata": {
        "id": "Qq78zkNMqBMA"
      },
      "cell_type": "code",
      "source": [
        "caps1_output_expanded = tf.expand_dims(caps1_output, -1,\n",
        "                                       name=\"caps1_output_expanded\")\n",
        "caps1_output_tile = tf.expand_dims(caps1_output_expanded, 2,\n",
        "                                   name=\"caps1_output_tile\")\n",
        "caps1_output_tiled = tf.tile(caps1_output_tile, [1, 1, caps2_n_caps, 1, 1],\n",
        "                             name=\"caps1_output_tiled\")"
      ],
      "execution_count": null,
      "outputs": []
    },
    {
      "metadata": {
        "id": "xpoimA2Br7-5",
        "colab": {
          "base_uri": "https://localhost:8080/",
          "height": 34
        },
        "outputId": "8eefbfa7-2782-41cf-b403-e2589c018ba8"
      },
      "cell_type": "code",
      "source": [
        "W_tiled"
      ],
      "execution_count": null,
      "outputs": [
        {
          "output_type": "execute_result",
          "data": {
            "text/plain": [
              "<tf.Tensor 'W_tiled:0' shape=(?, 1152, 10, 16, 8) dtype=float32>"
            ]
          },
          "metadata": {
            "tags": []
          },
          "execution_count": 20
        }
      ]
    },
    {
      "metadata": {
        "id": "WvkJpfK1sCay",
        "colab": {
          "base_uri": "https://localhost:8080/",
          "height": 34
        },
        "outputId": "aae500bd-a4a3-4075-8e2d-a263e2f86534"
      },
      "cell_type": "code",
      "source": [
        "caps1_output_tiled"
      ],
      "execution_count": null,
      "outputs": [
        {
          "output_type": "execute_result",
          "data": {
            "text/plain": [
              "<tf.Tensor 'caps1_output_tiled:0' shape=(?, 1152, 10, 8, 1) dtype=float32>"
            ]
          },
          "metadata": {
            "tags": []
          },
          "execution_count": 21
        }
      ]
    },
    {
      "metadata": {
        "id": "d7wkapAUvE5_"
      },
      "cell_type": "code",
      "source": [
        "caps2_predicted = tf.matmul(W_tiled, caps1_output_tiled,\n",
        "                            name=\"caps2_predicted\")"
      ],
      "execution_count": null,
      "outputs": []
    },
    {
      "metadata": {
        "id": "8fm2Cp5kvOcs",
        "colab": {
          "base_uri": "https://localhost:8080/",
          "height": 34
        },
        "outputId": "d6ced1fa-091e-4e19-d60e-3b38a05ff09c"
      },
      "cell_type": "code",
      "source": [
        "caps2_predicted"
      ],
      "execution_count": null,
      "outputs": [
        {
          "output_type": "execute_result",
          "data": {
            "text/plain": [
              "<tf.Tensor 'caps2_predicted:0' shape=(?, 1152, 10, 16, 1) dtype=float32>"
            ]
          },
          "metadata": {
            "tags": []
          },
          "execution_count": 23
        }
      ]
    },
    {
      "metadata": {
        "id": "OThN2-iIv3CK"
      },
      "cell_type": "code",
      "source": [
        "raw_weights = tf.zeros([batch_size, caps1_n_caps, caps2_n_caps, 1, 1],\n",
        "                       dtype=np.float32, name=\"raw_weights\")"
      ],
      "execution_count": null,
      "outputs": []
    },
    {
      "metadata": {
        "id": "gfpqpkPdwpgJ",
        "colab": {
          "base_uri": "https://localhost:8080/",
          "height": 88
        },
        "outputId": "8c6de265-1cf7-491a-bcbf-a37d29f045e3"
      },
      "cell_type": "code",
      "source": [
        "routing_weights = tf.nn.softmax(raw_weights, dim=2, name=\"routing_weights\")"
      ],
      "execution_count": null,
      "outputs": [
        {
          "output_type": "stream",
          "text": [
            "WARNING:tensorflow:From <ipython-input-25-86a489ae595f>:1: calling softmax (from tensorflow.python.ops.nn_ops) with dim is deprecated and will be removed in a future version.\n",
            "Instructions for updating:\n",
            "dim is deprecated, use axis instead\n"
          ],
          "name": "stdout"
        }
      ]
    },
    {
      "metadata": {
        "id": "KMGgaexAzFh5"
      },
      "cell_type": "code",
      "source": [
        "weighted_predictions = tf.multiply(routing_weights, caps2_predicted,\n",
        "                                   name=\"weighted_predictions\")\n",
        "weighted_sum = tf.reduce_sum(weighted_predictions, axis=1, keep_dims=True,\n",
        "                             name=\"weighted_sum\")"
      ],
      "execution_count": null,
      "outputs": []
    },
    {
      "metadata": {
        "id": "YhJyl7DAzIdh"
      },
      "cell_type": "code",
      "source": [
        "caps2_output_round_1 = squash(weighted_sum, axis=-2,\n",
        "                              name=\"caps2_output_round_1\")"
      ],
      "execution_count": null,
      "outputs": []
    },
    {
      "metadata": {
        "id": "6_XQn1Hy6rC5",
        "colab": {
          "base_uri": "https://localhost:8080/",
          "height": 34
        },
        "outputId": "c1643fa0-fb28-4586-9e04-e9e9c6a66f1d"
      },
      "cell_type": "code",
      "source": [
        "caps2_output_round_1"
      ],
      "execution_count": null,
      "outputs": [
        {
          "output_type": "execute_result",
          "data": {
            "text/plain": [
              "<tf.Tensor 'caps2_output_round_1/mul:0' shape=(?, 1, 10, 16, 1) dtype=float32>"
            ]
          },
          "metadata": {
            "tags": []
          },
          "execution_count": 28
        }
      ]
    },
    {
      "metadata": {
        "id": "9CVs6oHaFU_0",
        "colab": {
          "base_uri": "https://localhost:8080/",
          "height": 34
        },
        "outputId": "423737e8-6cc5-494f-d636-2cac0b1f279d"
      },
      "cell_type": "code",
      "source": [
        "caps2_predicted"
      ],
      "execution_count": null,
      "outputs": [
        {
          "output_type": "execute_result",
          "data": {
            "text/plain": [
              "<tf.Tensor 'caps2_predicted:0' shape=(?, 1152, 10, 16, 1) dtype=float32>"
            ]
          },
          "metadata": {
            "tags": []
          },
          "execution_count": 29
        }
      ]
    },
    {
      "metadata": {
        "id": "8ZPZjZ4lFe2U",
        "colab": {
          "base_uri": "https://localhost:8080/",
          "height": 34
        },
        "outputId": "169cf857-7256-46f8-b17f-c34176c1ee1c"
      },
      "cell_type": "code",
      "source": [
        "caps2_output_round_1"
      ],
      "execution_count": null,
      "outputs": [
        {
          "output_type": "execute_result",
          "data": {
            "text/plain": [
              "<tf.Tensor 'caps2_output_round_1/mul:0' shape=(?, 1, 10, 16, 1) dtype=float32>"
            ]
          },
          "metadata": {
            "tags": []
          },
          "execution_count": 30
        }
      ]
    },
    {
      "metadata": {
        "id": "Wfye5JojFjG-"
      },
      "cell_type": "code",
      "source": [
        "caps2_output_round_1_tiled = tf.tile(\n",
        "    caps2_output_round_1, [1, caps1_n_caps, 1, 1, 1],\n",
        "    name=\"caps2_output_round_1_tiled\")"
      ],
      "execution_count": null,
      "outputs": []
    },
    {
      "metadata": {
        "id": "UKZBUzECHjxZ"
      },
      "cell_type": "code",
      "source": [
        "agreement = tf.matmul(caps2_predicted, caps2_output_round_1_tiled,\n",
        "                      transpose_a=True, name=\"agreement\")"
      ],
      "execution_count": null,
      "outputs": []
    },
    {
      "metadata": {
        "id": "1a3AwCBTMY_-"
      },
      "cell_type": "code",
      "source": [
        "raw_weights_round_2 = tf.add(raw_weights, agreement,\n",
        "                             name=\"raw_weights_round_2\")"
      ],
      "execution_count": null,
      "outputs": []
    },
    {
      "metadata": {
        "id": "yubYSw-tMilY"
      },
      "cell_type": "code",
      "source": [
        "routing_weights_round_2 = tf.nn.softmax(raw_weights_round_2,\n",
        "                                        dim=2,\n",
        "                                        name=\"routing_weights_round_2\")\n",
        "weighted_predictions_round_2 = tf.multiply(routing_weights_round_2,\n",
        "                                           caps2_predicted,\n",
        "                                           name=\"weighted_predictions_round_2\")\n",
        "weighted_sum_round_2 = tf.reduce_sum(weighted_predictions_round_2,\n",
        "                                     axis=1, keep_dims=True,\n",
        "                                     name=\"weighted_sum_round_2\")\n",
        "caps2_output_round_2 = squash(weighted_sum_round_2,\n",
        "                              axis=-2,\n",
        "                              name=\"caps2_output_round_2\")"
      ],
      "execution_count": null,
      "outputs": []
    },
    {
      "metadata": {
        "id": "ZmEbGWB9UqYm"
      },
      "cell_type": "code",
      "source": [
        "caps2_output = caps2_output_round_2"
      ],
      "execution_count": null,
      "outputs": []
    },
    {
      "metadata": {
        "id": "vSPfse2bYIGT",
        "colab": {
          "base_uri": "https://localhost:8080/",
          "height": 34
        },
        "outputId": "7e0e7466-f408-455c-e823-3f3af9bfaede"
      },
      "cell_type": "code",
      "source": [
        "def condition(input, counter):\n",
        "    return tf.less(counter, 100)\n",
        "\n",
        "def loop_body(input, counter):\n",
        "    output = tf.add(input, tf.square(counter))\n",
        "    return output, tf.add(counter, 1)\n",
        "\n",
        "with tf.name_scope(\"compute_sum_of_squares\"):\n",
        "    counter = tf.constant(1)\n",
        "    sum_of_squares = tf.constant(0)\n",
        "\n",
        "    result = tf.while_loop(condition, loop_body, [sum_of_squares, counter])\n",
        "    \n",
        "\n",
        "with tf.Session() as sess:\n",
        "    print(sess.run(result))"
      ],
      "execution_count": null,
      "outputs": [
        {
          "output_type": "stream",
          "text": [
            "(328350, 100)\n"
          ],
          "name": "stdout"
        }
      ]
    },
    {
      "metadata": {
        "id": "MhQiRccUBcec",
        "colab": {
          "base_uri": "https://localhost:8080/",
          "height": 34
        },
        "outputId": "a0b579f3-d441-4bf1-b2c4-54526f20f96e"
      },
      "cell_type": "code",
      "source": [
        "sum([i**2 for i in range(1, 100 + 1)])"
      ],
      "execution_count": null,
      "outputs": [
        {
          "output_type": "execute_result",
          "data": {
            "text/plain": [
              "338350"
            ]
          },
          "metadata": {
            "tags": []
          },
          "execution_count": 37
        }
      ]
    },
    {
      "metadata": {
        "id": "aw7SpEl346bt"
      },
      "cell_type": "code",
      "source": [
        "def safe_norm(s, axis=-1, epsilon=1e-7, keep_dims=False, name=None):\n",
        "    with tf.name_scope(name, default_name=\"safe_norm\"):\n",
        "        squared_norm = tf.reduce_sum(tf.square(s), axis=axis,\n",
        "                                     keep_dims=keep_dims)\n",
        "        return tf.sqrt(squared_norm + epsilon)"
      ],
      "execution_count": null,
      "outputs": []
    },
    {
      "metadata": {
        "id": "sz9QOpQW7Rts"
      },
      "cell_type": "code",
      "source": [
        "y_proba = safe_norm(caps2_output, axis=-2, name=\"y_proba\")"
      ],
      "execution_count": null,
      "outputs": []
    },
    {
      "metadata": {
        "id": "52NO6qFW7h16"
      },
      "cell_type": "code",
      "source": [
        "y_proba_argmax = tf.argmax(y_proba, axis=2, name=\"y_proba\")"
      ],
      "execution_count": null,
      "outputs": []
    },
    {
      "metadata": {
        "id": "IDObiniD7wSy",
        "colab": {
          "base_uri": "https://localhost:8080/",
          "height": 34
        },
        "outputId": "77f6fec8-5c54-4f31-9bf2-f75b4d524bed"
      },
      "cell_type": "code",
      "source": [
        "y_proba_argmax"
      ],
      "execution_count": null,
      "outputs": [
        {
          "output_type": "execute_result",
          "data": {
            "text/plain": [
              "<tf.Tensor 'y_proba_1:0' shape=(?, 1, 1) dtype=int64>"
            ]
          },
          "metadata": {
            "tags": []
          },
          "execution_count": 41
        }
      ]
    },
    {
      "metadata": {
        "id": "PYmNKVRa8KaI"
      },
      "cell_type": "code",
      "source": [
        "y_pred = tf.squeeze(y_proba_argmax, axis=[1,2], name=\"y_pred\")"
      ],
      "execution_count": null,
      "outputs": []
    },
    {
      "metadata": {
        "id": "6gTsLEWK8K_r",
        "colab": {
          "base_uri": "https://localhost:8080/",
          "height": 34
        },
        "outputId": "4a50787e-34b6-4ae8-c45e-d6678634f796"
      },
      "cell_type": "code",
      "source": [
        "y_pred"
      ],
      "execution_count": null,
      "outputs": [
        {
          "output_type": "execute_result",
          "data": {
            "text/plain": [
              "<tf.Tensor 'y_pred:0' shape=(?,) dtype=int64>"
            ]
          },
          "metadata": {
            "tags": []
          },
          "execution_count": 43
        }
      ]
    },
    {
      "metadata": {
        "id": "xtR99SBKAqLm"
      },
      "cell_type": "code",
      "source": [
        "y = tf.placeholder(shape=[None], dtype=tf.int64, name=\"y\")"
      ],
      "execution_count": null,
      "outputs": []
    },
    {
      "metadata": {
        "id": "GkkcLi6P9fv4"
      },
      "cell_type": "code",
      "source": [
        "m_plus = 0.9\n",
        "m_minus = 0.1\n",
        "lambda_ = 0.5"
      ],
      "execution_count": null,
      "outputs": []
    },
    {
      "metadata": {
        "id": "6JOJAfTRCgpD"
      },
      "cell_type": "code",
      "source": [
        "T = tf.one_hot(y, depth=caps2_n_caps, name=\"T\")"
      ],
      "execution_count": null,
      "outputs": []
    },
    {
      "metadata": {
        "id": "QoY5OZNvDP8I",
        "colab": {
          "base_uri": "https://localhost:8080/",
          "height": 102
        },
        "outputId": "881613e8-e72e-4a44-c737-d6b4ca447061"
      },
      "cell_type": "code",
      "source": [
        "with tf.Session():\n",
        "    print(T.eval(feed_dict={y: np.array([0, 1, 2, 3, 9])}))"
      ],
      "execution_count": null,
      "outputs": [
        {
          "output_type": "stream",
          "text": [
            "[[1. 0. 0. 0. 0. 0. 0. 0. 0. 0.]\n",
            " [0. 1. 0. 0. 0. 0. 0. 0. 0. 0.]\n",
            " [0. 0. 1. 0. 0. 0. 0. 0. 0. 0.]\n",
            " [0. 0. 0. 1. 0. 0. 0. 0. 0. 0.]\n",
            " [0. 0. 0. 0. 0. 0. 0. 0. 0. 1.]]\n"
          ],
          "name": "stdout"
        }
      ]
    },
    {
      "metadata": {
        "id": "Y8E44s4ODxH4",
        "colab": {
          "base_uri": "https://localhost:8080/",
          "height": 34
        },
        "outputId": "8e2313c9-042d-46c0-e896-fab3df7db6f6"
      },
      "cell_type": "code",
      "source": [
        "caps2_output"
      ],
      "execution_count": null,
      "outputs": [
        {
          "output_type": "execute_result",
          "data": {
            "text/plain": [
              "<tf.Tensor 'caps2_output_round_2/mul:0' shape=(?, 1, 10, 16, 1) dtype=float32>"
            ]
          },
          "metadata": {
            "tags": []
          },
          "execution_count": 48
        }
      ]
    },
    {
      "metadata": {
        "id": "5veRHF2SEK-9"
      },
      "cell_type": "code",
      "source": [
        "caps2_output_norm = safe_norm(caps2_output, axis=-2, keep_dims=True,\n",
        "                              name=\"caps2_output_norm\")"
      ],
      "execution_count": null,
      "outputs": []
    },
    {
      "metadata": {
        "id": "oLlFn1LfEj3a"
      },
      "cell_type": "code",
      "source": [
        "present_error_raw = tf.square(tf.maximum(0., m_plus - caps2_output_norm),\n",
        "                              name=\"present_error_raw\")\n",
        "present_error = tf.reshape(present_error_raw, shape=(-1, 10),\n",
        "                           name=\"present_error\")"
      ],
      "execution_count": null,
      "outputs": []
    },
    {
      "metadata": {
        "id": "e-djtHfIEwm7"
      },
      "cell_type": "code",
      "source": [
        "absent_error_raw = tf.square(tf.maximum(0., caps2_output_norm - m_minus),\n",
        "                             name=\"absent_error_raw\")\n",
        "absent_error = tf.reshape(absent_error_raw, shape=(-1, 10),\n",
        "                          name=\"absent_error\")"
      ],
      "execution_count": null,
      "outputs": []
    },
    {
      "metadata": {
        "id": "1SEY2oCcE44M"
      },
      "cell_type": "code",
      "source": [
        "L = tf.add(T * present_error, lambda_ * (1.0 - T) * absent_error,\n",
        "           name=\"L\")"
      ],
      "execution_count": null,
      "outputs": []
    },
    {
      "metadata": {
        "id": "yJKGpG6YFGY_"
      },
      "cell_type": "code",
      "source": [
        "margin_loss = tf.reduce_mean(tf.reduce_sum(L, axis=1), name=\"margin_loss\")"
      ],
      "execution_count": null,
      "outputs": []
    },
    {
      "metadata": {
        "id": "Q707bJKmPT-l"
      },
      "cell_type": "code",
      "source": [
        "mask_with_labels = tf.placeholder_with_default(False, shape=(),\n",
        "                                               name=\"mask_with_labels\")"
      ],
      "execution_count": null,
      "outputs": []
    },
    {
      "metadata": {
        "id": "iZWMUj9qPv2X"
      },
      "cell_type": "code",
      "source": [
        "reconstruction_targets = tf.cond(mask_with_labels, \n",
        "                                 lambda: y,       \n",
        "                                 lambda: y_pred,   \n",
        "                                 name=\"reconstruction_targets\")"
      ],
      "execution_count": null,
      "outputs": []
    },
    {
      "metadata": {
        "id": "-Du-1230ZoOq"
      },
      "cell_type": "code",
      "source": [
        "reconstruction_mask = tf.one_hot(reconstruction_targets,\n",
        "                                 depth=caps2_n_caps,\n",
        "                                 name=\"reconstruction_mask\")"
      ],
      "execution_count": null,
      "outputs": []
    },
    {
      "metadata": {
        "id": "Z09R5VTTZuyn",
        "colab": {
          "base_uri": "https://localhost:8080/",
          "height": 34
        },
        "outputId": "949bba41-da0b-43c7-afdb-af3c59272def"
      },
      "cell_type": "code",
      "source": [
        "reconstruction_mask"
      ],
      "execution_count": null,
      "outputs": [
        {
          "output_type": "execute_result",
          "data": {
            "text/plain": [
              "<tf.Tensor 'reconstruction_mask:0' shape=(?, 10) dtype=float32>"
            ]
          },
          "metadata": {
            "tags": []
          },
          "execution_count": 57
        }
      ]
    },
    {
      "metadata": {
        "id": "f_Ko0tRTZ7HN",
        "colab": {
          "base_uri": "https://localhost:8080/",
          "height": 34
        },
        "outputId": "5c8711cb-2076-4b91-a63d-00270006d6ac"
      },
      "cell_type": "code",
      "source": [
        "caps2_output"
      ],
      "execution_count": null,
      "outputs": [
        {
          "output_type": "execute_result",
          "data": {
            "text/plain": [
              "<tf.Tensor 'caps2_output_round_2/mul:0' shape=(?, 1, 10, 16, 1) dtype=float32>"
            ]
          },
          "metadata": {
            "tags": []
          },
          "execution_count": 58
        }
      ]
    },
    {
      "metadata": {
        "id": "M_JKd1jzaitO"
      },
      "cell_type": "code",
      "source": [
        "reconstruction_mask_reshaped = tf.reshape(\n",
        "    reconstruction_mask, [-1, 1, caps2_n_caps, 1, 1],\n",
        "    name=\"reconstruction_mask_reshaped\")"
      ],
      "execution_count": null,
      "outputs": []
    },
    {
      "metadata": {
        "id": "taVZCKGXapW1"
      },
      "cell_type": "code",
      "source": [
        "caps2_output_masked = tf.multiply(\n",
        "    caps2_output, reconstruction_mask_reshaped,\n",
        "    name=\"caps2_output_masked\")"
      ],
      "execution_count": null,
      "outputs": []
    },
    {
      "metadata": {
        "id": "lBGtJfwBatjF",
        "colab": {
          "base_uri": "https://localhost:8080/",
          "height": 34
        },
        "outputId": "637a7e94-50e7-4e2a-f8e4-b116ea7f7465"
      },
      "cell_type": "code",
      "source": [
        "caps2_output_masked"
      ],
      "execution_count": null,
      "outputs": [
        {
          "output_type": "execute_result",
          "data": {
            "text/plain": [
              "<tf.Tensor 'caps2_output_masked:0' shape=(?, 1, 10, 16, 1) dtype=float32>"
            ]
          },
          "metadata": {
            "tags": []
          },
          "execution_count": 61
        }
      ]
    },
    {
      "metadata": {
        "id": "crLdvm20a_bH"
      },
      "cell_type": "code",
      "source": [
        "decoder_input = tf.reshape(caps2_output_masked,\n",
        "                           [-1, caps2_n_caps * caps2_n_dims],\n",
        "                           name=\"decoder_input\")"
      ],
      "execution_count": null,
      "outputs": []
    },
    {
      "metadata": {
        "id": "NrkqnMjvbIck",
        "colab": {
          "base_uri": "https://localhost:8080/",
          "height": 34
        },
        "outputId": "411fca38-6a7a-4c75-c5c5-0db692b268e9"
      },
      "cell_type": "code",
      "source": [
        "decoder_input"
      ],
      "execution_count": null,
      "outputs": [
        {
          "output_type": "execute_result",
          "data": {
            "text/plain": [
              "<tf.Tensor 'decoder_input:0' shape=(?, 160) dtype=float32>"
            ]
          },
          "metadata": {
            "tags": []
          },
          "execution_count": 63
        }
      ]
    },
    {
      "metadata": {
        "id": "KV9Hc9IJbnnJ"
      },
      "cell_type": "code",
      "source": [
        "n_hidden1 = 512\n",
        "n_hidden2 = 1024\n",
        "n_output = 28 * 28"
      ],
      "execution_count": null,
      "outputs": []
    },
    {
      "metadata": {
        "id": "2AU_TqyTbpFC"
      },
      "cell_type": "code",
      "source": [
        "with tf.name_scope(\"decoder\"):\n",
        "    hidden1 = tf.layers.dense(decoder_input, n_hidden1,\n",
        "                              activation=tf.nn.relu,\n",
        "                              name=\"hidden1\")\n",
        "    hidden2 = tf.layers.dense(hidden1, n_hidden2,\n",
        "                              activation=tf.nn.relu,\n",
        "                              name=\"hidden2\")\n",
        "    decoder_output = tf.layers.dense(hidden2, n_output,\n",
        "                                     activation=tf.nn.sigmoid,\n",
        "                                     name=\"decoder_output\")"
      ],
      "execution_count": null,
      "outputs": []
    },
    {
      "metadata": {
        "id": "j1FN96WNcAxG"
      },
      "cell_type": "code",
      "source": [
        "X_flat = tf.reshape(X, [-1, n_output], name=\"X_flat\")\n",
        "squared_difference = tf.square(X_flat - decoder_output,\n",
        "                               name=\"squared_difference\")\n",
        "reconstruction_loss = tf.reduce_mean(squared_difference,\n",
        "                                    name=\"reconstruction_loss\")"
      ],
      "execution_count": null,
      "outputs": []
    },
    {
      "metadata": {
        "id": "eK_6jG2ucQ2Y"
      },
      "cell_type": "code",
      "source": [
        "alpha = 0.0005\n",
        "\n",
        "loss = tf.add(margin_loss, alpha * reconstruction_loss, name=\"loss\")"
      ],
      "execution_count": null,
      "outputs": []
    },
    {
      "metadata": {
        "id": "5gurjbDhJ4Oq"
      },
      "cell_type": "code",
      "source": [
        "correct = tf.equal(y, y_pred, name=\"correct\")\n",
        "accuracy = tf.reduce_mean(tf.cast(correct, tf.float32), name=\"accuracy\")"
      ],
      "execution_count": null,
      "outputs": []
    },
    {
      "metadata": {
        "id": "uSdoed3tOARi"
      },
      "cell_type": "code",
      "source": [
        "optimizer = tf.train.AdamOptimizer()\n",
        "training_op = optimizer.minimize(loss, name=\"training_op\")"
      ],
      "execution_count": null,
      "outputs": []
    },
    {
      "metadata": {
        "id": "zrRFaNgUOYes"
      },
      "cell_type": "code",
      "source": [
        "init = tf.global_variables_initializer()\n",
        "saver = tf.train.Saver()"
      ],
      "execution_count": null,
      "outputs": []
    },
    {
      "metadata": {
        "id": "G7FIrXXVNxxE",
        "colab": {
          "base_uri": "https://localhost:8080/",
          "height": 187
        },
        "outputId": "f2de34f4-f39d-4734-d888-4c67f900b96e"
      },
      "cell_type": "code",
      "source": [
        "n_epochs = 10\n",
        "batch_size = 50\n",
        "restore_checkpoint = True\n",
        "\n",
        "n_iterations_per_epoch = mnist.train.num_examples // batch_size\n",
        "n_iterations_validation = mnist.validation.num_examples // batch_size\n",
        "best_loss_val = np.infty\n",
        "checkpoint_path = \"./my_capsule_network\"\n",
        "\n",
        "with tf.Session() as sess:\n",
        "    if restore_checkpoint and tf.train.checkpoint_exists(checkpoint_path):\n",
        "        saver.restore(sess, checkpoint_path)\n",
        "    else:\n",
        "        init.run()\n",
        "\n",
        "    for epoch in range(n_epochs):\n",
        "        for iteration in range(1, n_iterations_per_epoch + 1):\n",
        "            X_batch, y_batch = mnist.train.next_batch(batch_size)\n",
        "            # Run the training operation and measure the loss:\n",
        "            _, loss_train = sess.run(\n",
        "                [training_op, loss],\n",
        "                feed_dict={X: X_batch.reshape([-1, 28, 28, 1]),\n",
        "                           y: y_batch,\n",
        "                           mask_with_labels: True})\n",
        "            print(\"\\rIteration: {}/{} ({:.1f}%)  Loss: {:.5f}\".format(\n",
        "                      iteration, n_iterations_per_epoch,\n",
        "                      iteration * 100 / n_iterations_per_epoch,\n",
        "                      loss_train),\n",
        "                  end=\"\")\n",
        "\n",
        "        # At the end of each epoch,\n",
        "        # measure the validation loss and accuracy:\n",
        "        loss_vals = []\n",
        "        acc_vals = []\n",
        "        for iteration in range(1, n_iterations_validation + 1):\n",
        "            X_batch, y_batch = mnist.validation.next_batch(batch_size)\n",
        "            loss_val, acc_val = sess.run(\n",
        "                    [loss, accuracy],\n",
        "                    feed_dict={X: X_batch.reshape([-1, 28, 28, 1]),\n",
        "                               y: y_batch})\n",
        "            loss_vals.append(loss_val)\n",
        "            acc_vals.append(acc_val)\n",
        "            print(\"\\rEvaluating the model: {}/{} ({:.1f}%)\".format(\n",
        "                      iteration, n_iterations_validation,\n",
        "                      iteration * 100 / n_iterations_validation),\n",
        "                  end=\" \" * 10)\n",
        "        loss_val = np.mean(loss_vals)\n",
        "        acc_val = np.mean(acc_vals)\n",
        "        print(\"\\rEpoch: {}  Val accuracy: {:.4f}%  Loss: {:.6f}{}\".format(\n",
        "            epoch + 1, acc_val * 100, loss_val,\n",
        "            \" (improved)\" if loss_val < best_loss_val else \"\"))\n",
        "\n",
        "        # And save the model if it improved:\n",
        "        if loss_val < best_loss_val:\n",
        "            save_path = saver.save(sess, checkpoint_path)\n",
        "            best_loss_val = loss_val"
      ],
      "execution_count": null,
      "outputs": [
        {
          "output_type": "stream",
          "text": [
            "Epoch: 1  Val accuracy: 98.8200%  Loss: 0.015173 (improved)\n",
            "Iteration: 508/1100 (46.2%)  Loss: 0.02417"
          ],
          "name": "stdout"
        },
        {
          "output_type": "stream",
          "text": [
            "Epoch: 2  Val accuracy: 99.2200%  Loss: 0.010119 (improved)\n",
            "Iteration: 715/1100 (65.0%)  Loss: 0.00334"
          ],
          "name": "stdout"
        },
        {
          "output_type": "stream",
          "text": [
            "Epoch: 3  Val accuracy: 99.3800%  Loss: 0.008233 (improved)\n",
            "Iteration: 800/1100 (72.7%)  Loss: 0.00884"
          ],
          "name": "stdout"
        },
        {
          "output_type": "stream",
          "text": [
            "Epoch: 4  Val accuracy: 99.3800%  Loss: 0.007653 (improved)\n",
            "Iteration: 835/1100 (75.9%)  Loss: 0.00704"
          ],
          "name": "stdout"
        },
        {
          "output_type": "stream",
          "text": [
            "Epoch: 5  Val accuracy: 99.3400%  Loss: 0.007811\n",
            "Epoch: 6  Val accuracy: 99.3400%  Loss: 0.007715\n"
          ],
          "name": "stdout"
        },
        {
          "output_type": "stream",
          "text": [
            "Epoch: 7  Val accuracy: 99.2000%  Loss: 0.008309\n",
            "Epoch: 8  Val accuracy: 99.2000%  Loss: 0.007740\n"
          ],
          "name": "stdout"
        },
        {
          "output_type": "stream",
          "text": [
            "Epoch: 9  Val accuracy: 99.3000%  Loss: 0.007804\n",
            "Epoch: 10  Val accuracy: 99.2800%  Loss: 0.008190\n"
          ],
          "name": "stdout"
        }
      ]
    },
    {
      "metadata": {
        "id": "TDyJXmxGfFLi"
      },
      "cell_type": "markdown",
      "source": [
        "## Değerlendirme"
      ]
    },
    {
      "metadata": {
        "id": "gJqkspXzfKTM",
        "colab": {
          "base_uri": "https://localhost:8080/",
          "height": 51
        },
        "outputId": "58ef8927-6cdd-4d41-b09e-ba28c01ec8ea"
      },
      "cell_type": "code",
      "source": [
        "n_iterations_test = mnist.test.num_examples // batch_size\n",
        "\n",
        "with tf.Session() as sess:\n",
        "    saver.restore(sess, checkpoint_path)\n",
        "\n",
        "    loss_tests = []\n",
        "    acc_tests = []\n",
        "    for iteration in range(1, n_iterations_test + 1):\n",
        "        X_batch, y_batch = mnist.test.next_batch(batch_size)\n",
        "        loss_test, acc_test = sess.run(\n",
        "                [loss, accuracy],\n",
        "                feed_dict={X: X_batch.reshape([-1, 28, 28, 1]),\n",
        "                           y: y_batch})\n",
        "        loss_tests.append(loss_test)\n",
        "        acc_tests.append(acc_test)\n",
        "        print(\"\\rEvaluating the model: {}/{} ({:.1f}%)\".format(\n",
        "                  iteration, n_iterations_test,\n",
        "                  iteration * 100 / n_iterations_test),\n",
        "              end=\" \" * 10)\n",
        "    loss_test = np.mean(loss_tests)\n",
        "    acc_test = np.mean(acc_tests)\n",
        "    print(\"\\rFinal test accuracy: {:.4f}%  Loss: {:.6f}\".format(\n",
        "        acc_test * 100, loss_test))"
      ],
      "execution_count": null,
      "outputs": [
        {
          "output_type": "stream",
          "text": [
            "INFO:tensorflow:Restoring parameters from ./my_capsule_network\n",
            "Final test accuracy: 99.4300%  Loss: 0.007628\n"
          ],
          "name": "stdout"
        }
      ]
    },
    {
      "metadata": {
        "id": "J4ZHdAKThD0p",
        "colab": {
          "base_uri": "https://localhost:8080/",
          "height": 34
        },
        "outputId": "48023027-30a4-40b2-a3e1-ead5993e2aa5"
      },
      "cell_type": "code",
      "source": [
        "n_samples = 5\n",
        "\n",
        "sample_images = mnist.test.images[:n_samples].reshape([-1, 28, 28, 1])\n",
        "\n",
        "with tf.Session() as sess:\n",
        "    saver.restore(sess, checkpoint_path)\n",
        "    caps2_output_value, decoder_output_value, y_pred_value = sess.run(\n",
        "            [caps2_output, decoder_output, y_pred],\n",
        "            feed_dict={X: sample_images,\n",
        "                       y: np.array([], dtype=np.int64)})"
      ],
      "execution_count": null,
      "outputs": [
        {
          "output_type": "stream",
          "text": [
            "INFO:tensorflow:Restoring parameters from ./my_capsule_network\n"
          ],
          "name": "stdout"
        }
      ]
    },
    {
      "metadata": {
        "id": "ga_z7vpXhHQC",
        "colab": {
          "base_uri": "https://localhost:8080/",
          "height": 34
        },
        "outputId": "44bacc5e-9531-476f-e045-4399b09c2c16"
      },
      "cell_type": "code",
      "source": [
        "n_samples = 5\n",
        "\n",
        "sample_images = mnist.test.images[:n_samples].reshape([-1, 28, 28, 1])\n",
        "\n",
        "with tf.Session() as sess:\n",
        "    saver.restore(sess, checkpoint_path)\n",
        "    caps2_output_value, decoder_output_value, y_pred_value = sess.run(\n",
        "            [caps2_output, decoder_output, y_pred],\n",
        "            feed_dict={X: sample_images,\n",
        "                       y: np.array([], dtype=np.int64)})"
      ],
      "execution_count": null,
      "outputs": [
        {
          "output_type": "stream",
          "text": [
            "INFO:tensorflow:Restoring parameters from ./my_capsule_network\n"
          ],
          "name": "stdout"
        }
      ]
    },
    {
      "metadata": {
        "id": "M7XNvn5niYK5",
        "colab": {
          "base_uri": "https://localhost:8080/",
          "height": 301
        },
        "outputId": "5ac9af4a-9c11-4591-c800-e12def1a6793"
      },
      "cell_type": "code",
      "source": [
        "sample_images = sample_images.reshape(-1, 28, 28)\n",
        "reconstructions = decoder_output_value.reshape([-1, 28, 28])\n",
        "\n",
        "plt.figure(figsize=(n_samples * 2, 3))\n",
        "for index in range(n_samples):\n",
        "    plt.subplot(1, n_samples, index + 1)\n",
        "    plt.imshow(sample_images[index], cmap=\"binary\")\n",
        "    plt.title(\"Label:\" + str(mnist.test.labels[index]))\n",
        "    plt.axis(\"off\")\n",
        "\n",
        "plt.show()\n",
        "\n",
        "plt.figure(figsize=(n_samples * 2, 3))\n",
        "for index in range(n_samples):\n",
        "    plt.subplot(1, n_samples, index + 1)\n",
        "    plt.title(\"Predicted:\" + str(y_pred_value[index]))\n",
        "    plt.imshow(reconstructions[index], cmap=\"binary\")\n",
        "    plt.axis(\"off\")\n",
        "    \n",
        "plt.show()"
      ],
      "execution_count": null,
      "outputs": [
        {
          "output_type": "display_data",
          "data": {
            "image/png": "[encoded data removed]",
            "text/plain": [
              "<matplotlib.figure.Figure at 0x7f81ecf0c4e0>"
            ]
          },
          "metadata": {
            "tags": []
          }
        },
        {
          "output_type": "display_data",
          "data": {
            "image/png": "[encoded data removed]",
            "text/plain": [
              "<matplotlib.figure.Figure at 0x7f81ec8f5f98>"
            ]
          },
          "metadata": {
            "tags": []
          }
        }
      ]
    },
    {
      "metadata": {
        "id": "SJFur6zpm2hg"
      },
      "cell_type": "code",
      "source": [
        "def tweak_pose_parameters(output_vectors, min=-0.5, max=0.5, n_steps=11):\n",
        "    steps = np.linspace(min, max, n_steps) # -0.25, -0.15, ..., +0.25\n",
        "    pose_parameters = np.arange(caps2_n_dims) # 0, 1, ..., 15\n",
        "    tweaks = np.zeros([caps2_n_dims, n_steps, 1, 1, 1, caps2_n_dims, 1])\n",
        "    tweaks[pose_parameters, :, 0, 0, 0, pose_parameters, 0] = steps\n",
        "    output_vectors_expanded = output_vectors[np.newaxis, np.newaxis]\n",
        "    return tweaks + output_vectors_expanded"
      ],
      "execution_count": null,
      "outputs": []
    },
    {
      "metadata": {
        "id": "3vA5DY-ky6gc"
      },
      "cell_type": "code",
      "source": [
        "n_steps = 11\n",
        "\n",
        "tweaked_vectors = tweak_pose_parameters(caps2_output_value, n_steps=n_steps)\n",
        "tweaked_vectors_reshaped = tweaked_vectors.reshape(\n",
        "    [-1, 1, caps2_n_caps, caps2_n_dims, 1])"
      ],
      "execution_count": null,
      "outputs": []
    },
    {
      "metadata": {
        "id": "RCPLp0QGzCk1"
      },
      "cell_type": "markdown",
      "source": [
        "Şimdi bu ayarlanmış çıktı vektörlerini kod çözücüye gönderelim ve ürettikleri yeniden yapılandırma sonuçlarını alalım:"
      ]
    },
    {
      "metadata": {
        "id": "TT71_lOQzGZ4"
      },
      "cell_type": "code",
      "source": [
        "tweak_labels = np.tile(mnist.test.labels[:n_samples], caps2_n_dims * n_steps)\n",
        "\n",
        "with tf.Session() as sess:\n",
        "    saver.restore(sess, checkpoint_path)\n",
        "    decoder_output_value = sess.run(\n",
        "            decoder_output,\n",
        "            feed_dict={caps2_output: tweaked_vectors_reshaped,\n",
        "                       mask_with_labels: True,\n",
        "                       y: tweak_labels})"
      ],
      "execution_count": null,
      "outputs": []
    },
    {
      "metadata": {
        "id": "QtKqIi-lzS64"
      },
      "cell_type": "markdown",
      "source": [
        "Kod çözücünün çıktısını yeniden boyutlandıralım, böylece çıktı boyutunda, küçük (tweak) adımlarda ve örneklerde kolayca yineleyebiliriz:"
      ]
    },
    {
      "metadata": {
        "id": "HfYUoD5ezbtX"
      },
      "cell_type": "code",
      "source": [
        "tweak_reconstructions = decoder_output_value.reshape(\n",
        "        [caps2_n_dims, n_steps, n_samples, 28, 28])"
      ],
      "execution_count": null,
      "outputs": []
    },
    {
      "metadata": {
        "id": "DnWi1upczdoj"
      },
      "cell_type": "markdown",
      "source": [
        "Son olarak, her bir düzeltme adımı (sütun) ve her rakam için (satır) ilk 3 çıktı boyutu için tüm yeniden yapılandırmaları oluşturalım:"
      ]
    },
    {
      "metadata": {
        "id": "mf2J52hszm_f"
      },
      "cell_type": "code",
      "source": [
        "for dim in range(3):\n",
        "    print(\"Tweaking output dimension #{}\".format(dim))\n",
        "    plt.figure(figsize=(n_steps / 1.2, n_samples / 1.5))\n",
        "    for row in range(n_samples):\n",
        "        for col in range(n_steps):\n",
        "            plt.subplot(n_samples, n_steps, row * n_steps + col + 1)\n",
        "            plt.imshow(tweak_reconstructions[dim, col, row], cmap=\"binary\")\n",
        "            plt.axis(\"off\")\n",
        "    plt.show()"
      ],
      "execution_count": null,
      "outputs": []
    }
  ]
}