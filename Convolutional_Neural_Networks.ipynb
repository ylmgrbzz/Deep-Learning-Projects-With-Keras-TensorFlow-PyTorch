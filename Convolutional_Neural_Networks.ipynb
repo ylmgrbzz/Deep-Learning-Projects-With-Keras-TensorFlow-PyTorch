{
  "nbformat": 4,
  "nbformat_minor": 0,
  "metadata": {
    "colab": {
      "provenance": [],
      "authorship_tag": "ABX9TyN6nXUJe/XXJPLszUvWjW13",
      "include_colab_link": true
    },
    "kernelspec": {
      "name": "python3",
      "display_name": "Python 3"
    },
    "language_info": {
      "name": "python"
    }
  },
  "cells": [
    {
      "cell_type": "markdown",
      "metadata": {
        "id": "view-in-github",
        "colab_type": "text"
      },
      "source": [
        "<a href=\"https://colab.research.google.com/github/ylmgrbzz/Deep-Learning-Projects-With-Keras-TensorFlow-PyTorch/blob/main/Convolutional_Neural_Networks.ipynb\" target=\"_parent\"><img src=\"https://colab.research.google.com/assets/colab-badge.svg\" alt=\"Open In Colab\"/></a>"
      ]
    },
    {
      "cell_type": "code",
      "execution_count": 1,
      "metadata": {
        "id": "JwclR3HmHs0N"
      },
      "outputs": [],
      "source": [
        "import numpy as np\n",
        "import h5py\n",
        "import matplotlib.pyplot as plt"
      ]
    },
    {
      "cell_type": "code",
      "source": [
        "plt.rcParams['figure.figsize'] = (5.0, 4.0) \n",
        "plt.rcParams['image.interpolation'] = 'nearest'\n",
        "plt.rcParams['image.cmap'] = 'gray'\n"
      ],
      "metadata": {
        "id": "txeenU46Hwu3"
      },
      "execution_count": 2,
      "outputs": []
    },
    {
      "cell_type": "code",
      "source": [
        "np.random.seed(1)\n"
      ],
      "metadata": {
        "id": "wC-3ugzeHyOC"
      },
      "execution_count": 3,
      "outputs": []
    },
    {
      "cell_type": "code",
      "source": [
        "def zero_pad(X, pad):\n",
        "      X_pad = np.pad(X, ((0,0), (pad, pad), (pad,pad), (0,0)), 'constant',  constant_values = 0)\n",
        "      return X_pad"
      ],
      "metadata": {
        "id": "8ytoG_MGIely"
      },
      "execution_count": 4,
      "outputs": []
    },
    {
      "cell_type": "code",
      "source": [
        "np.random.seed(1)\n",
        "x = np.random.randn(4, 3, 3, 2)\n",
        "x_pad = zero_pad(x, 2)"
      ],
      "metadata": {
        "id": "6SX0X6e2IqT2"
      },
      "execution_count": 5,
      "outputs": []
    },
    {
      "cell_type": "code",
      "source": [
        "print (\"x.shape =\", x.shape)\n",
        "print (\"x_pad.shape =\", x_pad.shape)\n",
        "print (\"x[1,1] =\", x[1,1])\n",
        "print (\"x_pad[1,1] =\", x_pad[1,1])"
      ],
      "metadata": {
        "colab": {
          "base_uri": "https://localhost:8080/"
        },
        "id": "xnB_DCCCI78o",
        "outputId": "af22910a-c89b-4462-fcd2-1f0f49c98c04"
      },
      "execution_count": 6,
      "outputs": [
        {
          "output_type": "stream",
          "name": "stdout",
          "text": [
            "x.shape = (4, 3, 3, 2)\n",
            "x_pad.shape = (4, 7, 7, 2)\n",
            "x[1,1] = [[ 0.90085595 -0.68372786]\n",
            " [-0.12289023 -0.93576943]\n",
            " [-0.26788808  0.53035547]]\n",
            "x_pad[1,1] = [[0. 0.]\n",
            " [0. 0.]\n",
            " [0. 0.]\n",
            " [0. 0.]\n",
            " [0. 0.]\n",
            " [0. 0.]\n",
            " [0. 0.]]\n"
          ]
        }
      ]
    },
    {
      "cell_type": "code",
      "source": [
        "fig, axarr = plt.subplots(1, 2)\n",
        "axarr[0].set_title('x')\n",
        "axarr[0].imshow(x[0,:,:,0])\n",
        "axarr[1].set_title('x_pad')\n",
        "axarr[1].imshow(x_pad[0,:,:,0])"
      ],
      "metadata": {
        "colab": {
          "base_uri": "https://localhost:8080/",
          "height": 208
        },
        "id": "Fni4zu7vJJj0",
        "outputId": "15cd76bb-bd86-4350-f4fc-39c4827a6376"
      },
      "execution_count": 7,
      "outputs": [
        {
          "output_type": "execute_result",
          "data": {
            "text/plain": [
              "<matplotlib.image.AxesImage at 0x7fb184ea5d90>"
            ]
          },
          "metadata": {},
          "execution_count": 7
        },
        {
          "output_type": "display_data",
          "data": {
            "text/plain": [
              "<Figure size 360x288 with 2 Axes>"
            ],
            "image/png": "[encoded data removed]"
          },
          "metadata": {
            "needs_background": "light"
          }
        }
      ]
    },
    {
      "cell_type": "code",
      "source": [
        "def conv_single_step(a_slice_prev, W,b):\n",
        "  \n",
        "  s = np.multiply(a_slice_prev, W)\n",
        "  \n",
        "  Z = np.sum(s)\n",
        "  \n",
        "  Z = float(b)+Z\n",
        "  \n",
        "  return Z\n",
        "\n",
        "\"\"\"**`Z= x.W+b` Sonunun hesaplanması**\"\"\"\n",
        "\n",
        "np.random.seed(1)\n",
        "\n",
        "a_slice_prev = np.random.randn(4, 4, 3)\n",
        "\n",
        "W = np.random.randn(4, 4, 3)\n",
        "\n",
        "b = np.random.randn(1, 1, 1)\n",
        "\n",
        "Z = conv_single_step(a_slice_prev, W, b)\n",
        "print(\"Z =\", Z)\n",
        "\n",
        "\"\"\"### İleri Yayılım Algoritması için fonksiyon tanımlayalım...\"\"\"\n",
        "\n",
        "def conv_forward(A_prev, W, b, hparameters):\n",
        "  \n",
        "    (m, n_H_prev, n_W_prev, n_C_prev) = A_prev.shape\n",
        "   \n",
        "    (f, f, n_C_prev, n_C) = W.shape\n",
        "    \n",
        "  \n",
        "    stride = hparameters['stride']\n",
        "    pad = hparameters['pad']\n",
        "  \n",
        "    n_H = int(((n_H_prev-f+2*pad)/stride)+1)\n",
        "    n_W = int(((n_W_prev-f+2*pad)/stride)+1)\n",
        "    \n",
        "    Z = np.zeros([m,n_H,n_W,n_C])\n",
        "    \n",
        " \n",
        "    A_prev_pad = zero_pad(A_prev, pad)\n",
        "    \n",
        "    for i in range(m):                         \n",
        "        a_prev_pad = A_prev_pad[i]              \n",
        "        for h in range(n_H):                   \n",
        "            for w in range(n_W):                \n",
        "                for c in range(n_C):            \n",
        "                    \n",
        "                    vert_start = h*stride\n",
        "                    vert_end = vert_start + f\n",
        "                    horiz_start = w*stride\n",
        "                    horiz_end = horiz_start + f\n",
        "                    \n",
        "                    \n",
        "                    a_slice_prev = a_prev_pad[vert_start:vert_end, horiz_start:horiz_end]\n",
        "                    \n",
        "                   \n",
        "                    Z[i, h, w, c] = conv_single_step(a_slice_prev, W[...,c], b[...,c])\n",
        "                                            \n",
        "   \n",
        "    assert(Z.shape == (m, n_H, n_W, n_C))\n",
        "    \n",
        "   \n",
        "    cache = (A_prev, W, b, hparameters)\n",
        "    \n",
        "    return Z, cache"
      ],
      "metadata": {
        "colab": {
          "base_uri": "https://localhost:8080/"
        },
        "id": "E4dCrNG8K_4w",
        "outputId": "398d8974-7372-4ca5-8968-5d813ecfb847"
      },
      "execution_count": 8,
      "outputs": [
        {
          "output_type": "stream",
          "name": "stdout",
          "text": [
            "Z = -6.999089450680221\n"
          ]
        }
      ]
    },
    {
      "cell_type": "code",
      "source": [
        "np.random.seed(1)\n",
        "A_prev = np.random.randn(10, 4, 4, 3)\n",
        "W = np.random.randn(2, 2, 3, 8)\n",
        "b = np.random.randn(1, 1, 1, 8)\n",
        "\n",
        "hparameters = {\"pad\" :2,\n",
        "              \"stride\" :2}\n",
        "\n",
        "Z, cache_conv = conv_forward(A_prev, W, b, hparameters)\n",
        "\n",
        "print(\"Z'nin ortalama =\", np.mean(Z))\n",
        "print(\"Z[3, 2, 1] =\", Z[3, 2, 1])\n",
        "print(\"cache_conv[0][1][2][3] =\", cache_conv[0][1][2][3])\n"
      ],
      "metadata": {
        "colab": {
          "base_uri": "https://localhost:8080/"
        },
        "id": "XKBIOxC2LCLq",
        "outputId": "aa486fa4-8604-418f-cbd3-2d2136b66096"
      },
      "execution_count": 9,
      "outputs": [
        {
          "output_type": "stream",
          "name": "stdout",
          "text": [
            "Z'nin ortalama = 0.048995203528855794\n",
            "Z[3, 2, 1] = [-0.61490741 -6.7439236  -2.55153897  1.75698377  3.56208902  0.53036437\n",
            "  5.18531798  8.75898442]\n",
            "cache_conv[0][1][2][3] = [-0.20075807  0.18656139  0.41005165]\n"
          ]
        }
      ]
    },
    {
      "cell_type": "code",
      "source": [
        "def pool_forward(A_prev, hparameters,mode = \"max\"):\n",
        "  \n",
        "  (m, n_H_prev, n_W_prev, n_C_prev) = A_prev.shape\n",
        "  \n",
        "  f = hparameters[\"f\"]\n",
        "  stride = hparameters[\"stride\"]\n",
        "  \n",
        "  n_H = int(1 + (n_H_prev -f)/ stride)\n",
        "  n_W = int(1 + (n_W_prev -f)/ stride)\n",
        "  n_C = n_C_prev\n",
        "  \n",
        "  A = np.zeros((m, n_H, n_W, n_C))\n",
        "  \n",
        "  for i in range(m):\n",
        "    for h in range(n_H):\n",
        "      for w in range(n_W):\n",
        "        for c in range(n_C):\n",
        "          \n",
        "          vert_start = h*stride\n",
        "          vert_end = vert_start +f\n",
        "          horiz_start = w*stride\n",
        "          horiz_end = horiz_start +f\n",
        "          \n",
        "          a_prev_slice = A_prev[i, vert_start:vert_end, horiz_start:horiz_end, c]\n",
        "          \n",
        "          if mode == \"max\":\n",
        "            A[i,h, w, c] = np.max(a_prev_slice)\n",
        "          elif mode == \"average\":\n",
        "            A[i,h, w, c] = np.mean(a_prev_slice)\n",
        "            \n",
        "  cache = (A_prev, hparameters)\n",
        "  \n",
        "  assert(A.shape == (m, n_H, n_W, n_C))\n",
        "  \n",
        "  return A, cache\n"
      ],
      "metadata": {
        "id": "nW0idey_LyhG"
      },
      "execution_count": 10,
      "outputs": []
    },
    {
      "cell_type": "code",
      "source": [
        "np.random.seed(1)\n",
        "\n",
        "A_prev = np.random.randn(2, 4, 4, 3)\n",
        "hparameters = {\"stride\" : 2, \"f\" :3}\n",
        "\n",
        "A, cache = pool_forward(A_prev, hparameters)\n",
        "\n",
        "print(\"mod = max\")\n",
        "print(\"A= \", A)\n",
        "\n",
        "A, cache = pool_forward(A_prev, hparameters, mode = \"average\")\n",
        "\n",
        "print(\"mod = average\")\n",
        "print(\"A =\", A)"
      ],
      "metadata": {
        "colab": {
          "base_uri": "https://localhost:8080/"
        },
        "id": "P-EWAx1XL0rI",
        "outputId": "84d418c2-e5f8-4564-d2a3-31e063de3141"
      },
      "execution_count": 11,
      "outputs": [
        {
          "output_type": "stream",
          "name": "stdout",
          "text": [
            "mod = max\n",
            "A=  [[[[1.74481176 0.86540763 1.13376944]]]\n",
            "\n",
            "\n",
            " [[[1.13162939 1.51981682 2.18557541]]]]\n",
            "mod = average\n",
            "A = [[[[ 0.02105773 -0.20328806 -0.40389855]]]\n",
            "\n",
            "\n",
            " [[[-0.22154621  0.51716526  0.48155844]]]]\n"
          ]
        }
      ]
    },
    {
      "cell_type": "code",
      "source": [
        "def conv_backward(dZ, cache):\n",
        "    \n",
        "    \n",
        "    \n",
        "    (A_prev, W, b, hparameters) = cache\n",
        "    \n",
        "   \n",
        "    (m, n_H_prev, n_W_prev, n_C_prev) = A_prev.shape\n",
        "    \n",
        " \n",
        "    (f, f, n_C_prev, n_C) = W.shape\n",
        "    \n",
        "   \n",
        "    stride = hparameters['stride']\n",
        "    pad = hparameters['pad']\n",
        "    \n",
        "\n",
        "    (m, n_H, n_W, n_C) = dZ.shape\n",
        "    \n",
        "    dA_prev = np.zeros((m, n_H_prev, n_W_prev, n_C_prev))                           \n",
        "    dW = np.zeros((f,f, n_C_prev, n_C))\n",
        "    db = np.zeros((1, 1, 1, n_C))\n",
        "\n",
        "   \n",
        "    A_prev_pad = zero_pad(A_prev, pad)\n",
        "    dA_prev_pad = zero_pad(dA_prev, pad)\n",
        "    \n",
        "    for i in range(m):                       \n",
        "        \n",
        "       \n",
        "        a_prev_pad = A_prev_pad[i]\n",
        "        da_prev_pad = dA_prev_pad[i]\n",
        "        \n",
        "        for h in range(n_H):                  \n",
        "            for w in range(n_W):               \n",
        "                for c in range(n_C):        \n",
        "                    \n",
        "                   \n",
        "                    vert_start = h\n",
        "                    vert_end = vert_start + f\n",
        "                    horiz_start = w\n",
        "                    horiz_end = horiz_start + f\n",
        "                    \n",
        "                   \n",
        "                    a_slice = a_prev_pad[vert_start:vert_end, horiz_start:horiz_end, :]\n",
        "\n",
        "                    \n",
        "                    da_prev_pad[vert_start:vert_end, horiz_start:horiz_end, :] += W[:,:,:,c] * dZ[i, h, w, c]\n",
        "                    dW[:,:,:,c] += a_slice * dZ[i, h, w, c]\n",
        "                    db[:,:,:,c] += dZ[i, h, w, c]\n",
        "                    \n",
        "        dA_prev[i, :, :, :] = da_prev_pad[pad:-pad, pad:-pad, :]\n",
        "    \n",
        "   \n",
        "    assert(dA_prev.shape == (m, n_H_prev, n_W_prev, n_C_prev))\n",
        "    \n",
        "    return dA_prev, dW, db"
      ],
      "metadata": {
        "id": "rvLzwPR2L3V-"
      },
      "execution_count": 12,
      "outputs": []
    },
    {
      "cell_type": "code",
      "source": [
        "np.random.seed(1)\n",
        "dA, dW, db = conv_backward(Z, cache_conv)\n",
        "\n",
        "print(\"dA ortalama =\", np.mean(dA))\n",
        "print(\"dW ortalama =\", np.mean(dW))\n",
        "print(\"db ortalama =\", np.mean(db))"
      ],
      "metadata": {
        "colab": {
          "base_uri": "https://localhost:8080/"
        },
        "id": "M04oE_ffL4z8",
        "outputId": "f1c434b8-882d-47a2-b765-78ba01f627ed"
      },
      "execution_count": 13,
      "outputs": [
        {
          "output_type": "stream",
          "name": "stdout",
          "text": [
            "dA ortalama = 0.6347704472654743\n",
            "dW ortalama = 1.5572657428497354\n",
            "db ortalama = 7.839232564616838\n"
          ]
        }
      ]
    },
    {
      "cell_type": "code",
      "source": [
        "def create_mask_from_window(x):\n",
        "  \n",
        "  mask = x == np.max(x)\n",
        "  \n",
        "  return mask"
      ],
      "metadata": {
        "id": "cPlcl1NAL6jF"
      },
      "execution_count": 14,
      "outputs": []
    },
    {
      "cell_type": "code",
      "source": [
        "np.random.seed(1)\n",
        "x = np.random.randn(2,3)\n",
        "mask = create_mask_from_window(x)\n",
        "\n",
        "print('x =', x)\n",
        "print('maske =', mask)\n",
        "\n",
        "def distribute_value(dz, shape):\n",
        "  \n",
        "   \n",
        "    (n_H, n_W) = shape\n",
        "    \n",
        "   \n",
        "    average = dz / (n_H * n_W)\n",
        "    \n",
        "   \n",
        "    a =  np.ones(shape) * average\n",
        "    \n",
        "    return a"
      ],
      "metadata": {
        "colab": {
          "base_uri": "https://localhost:8080/"
        },
        "id": "sCERdUpqL9Tp",
        "outputId": "8a844f12-f880-4dfc-bd49-41e4b853199a"
      },
      "execution_count": 15,
      "outputs": [
        {
          "output_type": "stream",
          "name": "stdout",
          "text": [
            "x = [[ 1.62434536 -0.61175641 -0.52817175]\n",
            " [-1.07296862  0.86540763 -2.3015387 ]]\n",
            "maske = [[ True False False]\n",
            " [False False False]]\n"
          ]
        }
      ]
    },
    {
      "cell_type": "code",
      "source": [
        "a = distribute_value(2, (2,2))\n",
        "\n",
        "print('Dağıtılmış değer =', a)"
      ],
      "metadata": {
        "colab": {
          "base_uri": "https://localhost:8080/"
        },
        "id": "EgHyc12qL-cv",
        "outputId": "4a5f9a85-99d2-425a-b13b-1253b2a8dbb8"
      },
      "execution_count": 16,
      "outputs": [
        {
          "output_type": "stream",
          "name": "stdout",
          "text": [
            "Dağıtılmış değer = [[0.5 0.5]\n",
            " [0.5 0.5]]\n"
          ]
        }
      ]
    },
    {
      "cell_type": "code",
      "source": [
        "def pool_backward(dA, cache, mode= 'max'):\n",
        "  \n",
        "\n",
        "    (A_prev, hparameters) = cache\n",
        "    \n",
        "  \n",
        "    stride = hparameters['stride']\n",
        "    f = hparameters['f']\n",
        "    \n",
        "   \n",
        "    m, n_H_prev, n_W_prev, n_C_prev = A_prev.shape\n",
        "    m, n_H, n_W, n_C = dA.shape\n",
        "    \n",
        "   \n",
        "    dA_prev = np.zeros(A_prev.shape)\n",
        " \n",
        "    for i in range(m):                      \n",
        "        \n",
        "       \n",
        "        a_prev = A_prev[i]\n",
        "        \n",
        "        for h in range(n_H):                   \n",
        "            for w in range(n_W):             \n",
        "                for c in range(n_C):           \n",
        "                    \n",
        "                    \n",
        "                    vert_start = h\n",
        "                    vert_end = vert_start + f\n",
        "                    horiz_start = w\n",
        "                    horiz_end = horiz_start + f\n",
        "                    \n",
        "                  \n",
        "                    if mode == \"max\":\n",
        "                        \n",
        "                 \n",
        "                        a_prev_slice = a_prev[vert_start:vert_end, horiz_start:horiz_end, c]\n",
        "            \n",
        "                        mask = create_mask_from_window(a_prev_slice)\n",
        "                   \n",
        "                        dA_prev[i, vert_start: vert_end, horiz_start: horiz_end, c] += np.multiply(mask, dA[i, h, w, c])\n",
        "                        \n",
        "                    elif mode == \"average\":\n",
        "                        \n",
        "                       \n",
        "                        da = dA[i,h,w,c]\n",
        "                      \n",
        "                        shape = (f,f)\n",
        "                        dA_prev[i, vert_start: vert_end, horiz_start: horiz_end, c] += distribute_value(da, shape)\n",
        "                            \n",
        " \n",
        "    assert(dA_prev.shape == A_prev.shape)\n",
        "    \n",
        "    return "
      ],
      "metadata": {
        "id": "SfRuQ3vhMB6Q"
      },
      "execution_count": 17,
      "outputs": []
    },
    {
      "cell_type": "code",
      "source": [
        "np.random.seed(1)\n",
        "\n",
        "A_prev = np.random.randn(5, 5, 3, 2)\n",
        "hparameters = {\"stride\": 1, \"f\":2}\n",
        "A, cache = pool_forward(A_prev, hparameters)\n",
        "dA = np.random.randn(5, 4, 2, 2)\n",
        "\n",
        "dA_prev = pool_backward(dA, cache, mode= \"max\")\n",
        "\n",
        "print(\"mod = max\")\n",
        "print('dA ortalaması =', np.max(dA))\n",
        "print()\n",
        "\n",
        "dA_prev = pool_backward(dA, cache, mode= \"average\")\n",
        "\n",
        "print(\"mod = average\")\n",
        "print('dA ortalaması =', np.mean(dA))\n"
      ],
      "metadata": {
        "colab": {
          "base_uri": "https://localhost:8080/"
        },
        "id": "E-hAkvG2MEk2",
        "outputId": "0d3ddf8a-0ae0-4f1b-f4c1-8caece5c3db2"
      },
      "execution_count": 20,
      "outputs": [
        {
          "output_type": "stream",
          "name": "stdout",
          "text": [
            "mod = max\n",
            "dA ortalaması = 2.528325706806398\n",
            "\n",
            "mod = average\n",
            "dA ortalaması = 0.14571390272918056\n"
          ]
        }
      ]
    }
  ]
}