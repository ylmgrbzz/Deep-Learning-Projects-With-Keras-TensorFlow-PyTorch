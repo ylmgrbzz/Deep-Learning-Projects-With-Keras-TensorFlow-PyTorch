{
  "nbformat": 4,
  "nbformat_minor": 0,
  "metadata": {
    "colab": {
      "provenance": [],
      "authorship_tag": "ABX9TyMzh5hYFW8HI9y/Br54oaSN",
      "include_colab_link": true
    },
    "kernelspec": {
      "name": "python3",
      "display_name": "Python 3"
    },
    "language_info": {
      "name": "python"
    }
  },
  "cells": [
    {
      "cell_type": "markdown",
      "metadata": {
        "id": "view-in-github",
        "colab_type": "text"
      },
      "source": [
        "<a href=\"https://colab.research.google.com/github/ylmgrbzz/Deep-Learning-Projects-With-Keras-TensorFlow-PyTorch/blob/main/Malicious_Websites_Analysis_Tensorflow_Classification_and_Dropout_After_Overfitting.ipynb\" target=\"_parent\"><img src=\"https://colab.research.google.com/assets/colab-badge.svg\" alt=\"Open In Colab\"/></a>"
      ]
    },
    {
      "cell_type": "code",
      "execution_count": 1,
      "metadata": {
        "id": "I1CYqck4uB_h"
      },
      "outputs": [],
      "source": [
        "import pandas as pd\n",
        "import numpy as np"
      ]
    },
    {
      "cell_type": "code",
      "source": [
        "dataFrame = pd.read_excel(\"maliciousornot.xlsx\")\n",
        "dataFrame\n"
      ],
      "metadata": {
        "colab": {
          "base_uri": "https://localhost:8080/",
          "height": 488
        },
        "id": "AvFCEINXuWB6",
        "outputId": "e59e47e9-f2cc-42cd-f86a-dc455f79f2b3"
      },
      "execution_count": 4,
      "outputs": [
        {
          "output_type": "execute_result",
          "data": {
            "text/plain": [
              "     Type  URL_LENGTH  NUMBER_SPECIAL_CHARACTERS  TCP_CONVERSATION_EXCHANGE  \\\n",
              "0       1   23.303047                  13.445560                 159.066933   \n",
              "1       1   26.645007                  23.018073                 172.149800   \n",
              "2       1   25.505113                  27.525833                 168.393333   \n",
              "3       1   14.792707                  26.398893                 100.491960   \n",
              "4       1   26.282313                  18.575080                 174.999533   \n",
              "..    ...         ...                        ...                        ...   \n",
              "543     1   27.927387                  29.002513                 183.937333   \n",
              "544     1   26.075060                  36.593167                 169.947733   \n",
              "545     1   21.502533                  36.372960                 140.284600   \n",
              "546     1   26.683867                  37.992127                 181.476200   \n",
              "547     0   10.051787                  31.787480                  62.072373   \n",
              "\n",
              "     DIST_REMOTE_TCP_PORT  REMOTE_IPS   APP_BYTES  SOURCE_APP_PACKETS  \\\n",
              "0             1296.628667    0.153367    0.359585            0.388730   \n",
              "1             1717.612000    0.109767    0.101865            0.112564   \n",
              "2             1558.286000    0.141969    0.207124            0.255699   \n",
              "3              500.128200    0.184585    0.367745            0.312693   \n",
              "4             1680.047333    0.129922    0.172020          256.476000   \n",
              "..                    ...         ...         ...                 ...   \n",
              "543           1915.798000  143.782000    0.150129            0.315932   \n",
              "544           1633.415333    0.126684    0.133937          186.528000   \n",
              "545           1111.525533    0.109520    0.132513            0.119831   \n",
              "546           1638.596667    0.152590  358.807333            0.455180   \n",
              "547            234.455333    0.068173    0.056502            0.000000   \n",
              "\n",
              "     REMOTE_APP_PACKETS  SOURCE_APP_BYTES  ...      SOURCE_I   SOURCE_J  \\\n",
              "0              0.190544          0.313341  ...     32.875560  22.448127   \n",
              "1              0.090894          0.234714  ...     32.370380  30.323753   \n",
              "2              0.165673          0.268004  ...     30.531007  33.069860   \n",
              "3              0.136269          0.336398  ...     19.313420  34.326333   \n",
              "4              0.135103          0.234326  ...     29.196813  21.593207   \n",
              "..                  ...               ...  ...           ...        ...   \n",
              "543            0.179922          0.223575  ...     32.966233  34.196800   \n",
              "544            0.126826          0.226942  ...     30.686447  49.546500   \n",
              "545            0.068679        205.958000  ...     24.585427  44.196773   \n",
              "546          196.890667          0.310491  ...     33.341880  51.062040   \n",
              "547            0.000000          0.205569  ...  12248.672000  39.339273   \n",
              "\n",
              "       SOURCE_K     SOURCE_M    SOURCE_L    SOURCE_N  SOURCE_O    SOURCE_P  \\\n",
              "0    239.118533  2615.278000    0.210103    0.862174  0.922148    0.343781   \n",
              "1    205.698933  2533.672000    0.160362    0.241709  0.312953  240.932000   \n",
              "2    197.538333  2213.724667    0.187046    0.549869  0.583418  314.766000   \n",
              "3    128.069607   735.360733    0.271761    1.122147  0.889764    0.333548   \n",
              "4    197.149733  2040.150000    0.177979  265.543333  0.518133    0.210492   \n",
              "..          ...          ...         ...         ...       ...         ...   \n",
              "543  215.154867  2625.640667  182.642000    0.273704  0.531993    0.287046   \n",
              "544  200.776667  2242.222000    0.151036    0.248963  0.416450    0.210880   \n",
              "545  164.118733  1455.954667    0.147538    0.400776  0.440802    0.183678   \n",
              "546  239.118533  2358.802000  213.730000    1.124479  1.215929  343.263333   \n",
              "547   76.631920   347.926533    0.116528    0.083471  0.000000    0.000000   \n",
              "\n",
              "       SOURCE_R    SOURCE_S  \n",
              "0      0.595983    0.154015  \n",
              "1    356.216667    0.115311  \n",
              "2      0.468004    0.113445  \n",
              "3      0.859842  224.092667  \n",
              "4      0.306217    0.099456  \n",
              "..          ...         ...  \n",
              "543  266.838667    0.092163  \n",
              "544    0.333160    0.085971  \n",
              "545    0.287305    0.101295  \n",
              "546    0.529403  160.621333  \n",
              "547    0.371890    0.091179  \n",
              "\n",
              "[548 rows x 31 columns]"
            ],
            "text/html": [
              "\n",
              "  <div id=\"df-4b4652c4-fd62-4fdc-ade2-b94a3e47b23c\">\n",
              "    <div class=\"colab-df-container\">\n",
              "      <div>\n",
              "<style scoped>\n",
              "    .dataframe tbody tr th:only-of-type {\n",
              "        vertical-align: middle;\n",
              "    }\n",
              "\n",
              "    .dataframe tbody tr th {\n",
              "        vertical-align: top;\n",
              "    }\n",
              "\n",
              "    .dataframe thead th {\n",
              "        text-align: right;\n",
              "    }\n",
              "</style>\n",
              "<table border=\"1\" class=\"dataframe\">\n",
              "  <thead>\n",
              "    <tr style=\"text-align: right;\">\n",
              "      <th></th>\n",
              "      <th>Type</th>\n",
              "      <th>URL_LENGTH</th>\n",
              "      <th>NUMBER_SPECIAL_CHARACTERS</th>\n",
              "      <th>TCP_CONVERSATION_EXCHANGE</th>\n",
              "      <th>DIST_REMOTE_TCP_PORT</th>\n",
              "      <th>REMOTE_IPS</th>\n",
              "      <th>APP_BYTES</th>\n",
              "      <th>SOURCE_APP_PACKETS</th>\n",
              "      <th>REMOTE_APP_PACKETS</th>\n",
              "      <th>SOURCE_APP_BYTES</th>\n",
              "      <th>...</th>\n",
              "      <th>SOURCE_I</th>\n",
              "      <th>SOURCE_J</th>\n",
              "      <th>SOURCE_K</th>\n",
              "      <th>SOURCE_M</th>\n",
              "      <th>SOURCE_L</th>\n",
              "      <th>SOURCE_N</th>\n",
              "      <th>SOURCE_O</th>\n",
              "      <th>SOURCE_P</th>\n",
              "      <th>SOURCE_R</th>\n",
              "      <th>SOURCE_S</th>\n",
              "    </tr>\n",
              "  </thead>\n",
              "  <tbody>\n",
              "    <tr>\n",
              "      <th>0</th>\n",
              "      <td>1</td>\n",
              "      <td>23.303047</td>\n",
              "      <td>13.445560</td>\n",
              "      <td>159.066933</td>\n",
              "      <td>1296.628667</td>\n",
              "      <td>0.153367</td>\n",
              "      <td>0.359585</td>\n",
              "      <td>0.388730</td>\n",
              "      <td>0.190544</td>\n",
              "      <td>0.313341</td>\n",
              "      <td>...</td>\n",
              "      <td>32.875560</td>\n",
              "      <td>22.448127</td>\n",
              "      <td>239.118533</td>\n",
              "      <td>2615.278000</td>\n",
              "      <td>0.210103</td>\n",
              "      <td>0.862174</td>\n",
              "      <td>0.922148</td>\n",
              "      <td>0.343781</td>\n",
              "      <td>0.595983</td>\n",
              "      <td>0.154015</td>\n",
              "    </tr>\n",
              "    <tr>\n",
              "      <th>1</th>\n",
              "      <td>1</td>\n",
              "      <td>26.645007</td>\n",
              "      <td>23.018073</td>\n",
              "      <td>172.149800</td>\n",
              "      <td>1717.612000</td>\n",
              "      <td>0.109767</td>\n",
              "      <td>0.101865</td>\n",
              "      <td>0.112564</td>\n",
              "      <td>0.090894</td>\n",
              "      <td>0.234714</td>\n",
              "      <td>...</td>\n",
              "      <td>32.370380</td>\n",
              "      <td>30.323753</td>\n",
              "      <td>205.698933</td>\n",
              "      <td>2533.672000</td>\n",
              "      <td>0.160362</td>\n",
              "      <td>0.241709</td>\n",
              "      <td>0.312953</td>\n",
              "      <td>240.932000</td>\n",
              "      <td>356.216667</td>\n",
              "      <td>0.115311</td>\n",
              "    </tr>\n",
              "    <tr>\n",
              "      <th>2</th>\n",
              "      <td>1</td>\n",
              "      <td>25.505113</td>\n",
              "      <td>27.525833</td>\n",
              "      <td>168.393333</td>\n",
              "      <td>1558.286000</td>\n",
              "      <td>0.141969</td>\n",
              "      <td>0.207124</td>\n",
              "      <td>0.255699</td>\n",
              "      <td>0.165673</td>\n",
              "      <td>0.268004</td>\n",
              "      <td>...</td>\n",
              "      <td>30.531007</td>\n",
              "      <td>33.069860</td>\n",
              "      <td>197.538333</td>\n",
              "      <td>2213.724667</td>\n",
              "      <td>0.187046</td>\n",
              "      <td>0.549869</td>\n",
              "      <td>0.583418</td>\n",
              "      <td>314.766000</td>\n",
              "      <td>0.468004</td>\n",
              "      <td>0.113445</td>\n",
              "    </tr>\n",
              "    <tr>\n",
              "      <th>3</th>\n",
              "      <td>1</td>\n",
              "      <td>14.792707</td>\n",
              "      <td>26.398893</td>\n",
              "      <td>100.491960</td>\n",
              "      <td>500.128200</td>\n",
              "      <td>0.184585</td>\n",
              "      <td>0.367745</td>\n",
              "      <td>0.312693</td>\n",
              "      <td>0.136269</td>\n",
              "      <td>0.336398</td>\n",
              "      <td>...</td>\n",
              "      <td>19.313420</td>\n",
              "      <td>34.326333</td>\n",
              "      <td>128.069607</td>\n",
              "      <td>735.360733</td>\n",
              "      <td>0.271761</td>\n",
              "      <td>1.122147</td>\n",
              "      <td>0.889764</td>\n",
              "      <td>0.333548</td>\n",
              "      <td>0.859842</td>\n",
              "      <td>224.092667</td>\n",
              "    </tr>\n",
              "    <tr>\n",
              "      <th>4</th>\n",
              "      <td>1</td>\n",
              "      <td>26.282313</td>\n",
              "      <td>18.575080</td>\n",
              "      <td>174.999533</td>\n",
              "      <td>1680.047333</td>\n",
              "      <td>0.129922</td>\n",
              "      <td>0.172020</td>\n",
              "      <td>256.476000</td>\n",
              "      <td>0.135103</td>\n",
              "      <td>0.234326</td>\n",
              "      <td>...</td>\n",
              "      <td>29.196813</td>\n",
              "      <td>21.593207</td>\n",
              "      <td>197.149733</td>\n",
              "      <td>2040.150000</td>\n",
              "      <td>0.177979</td>\n",
              "      <td>265.543333</td>\n",
              "      <td>0.518133</td>\n",
              "      <td>0.210492</td>\n",
              "      <td>0.306217</td>\n",
              "      <td>0.099456</td>\n",
              "    </tr>\n",
              "    <tr>\n",
              "      <th>...</th>\n",
              "      <td>...</td>\n",
              "      <td>...</td>\n",
              "      <td>...</td>\n",
              "      <td>...</td>\n",
              "      <td>...</td>\n",
              "      <td>...</td>\n",
              "      <td>...</td>\n",
              "      <td>...</td>\n",
              "      <td>...</td>\n",
              "      <td>...</td>\n",
              "      <td>...</td>\n",
              "      <td>...</td>\n",
              "      <td>...</td>\n",
              "      <td>...</td>\n",
              "      <td>...</td>\n",
              "      <td>...</td>\n",
              "      <td>...</td>\n",
              "      <td>...</td>\n",
              "      <td>...</td>\n",
              "      <td>...</td>\n",
              "      <td>...</td>\n",
              "    </tr>\n",
              "    <tr>\n",
              "      <th>543</th>\n",
              "      <td>1</td>\n",
              "      <td>27.927387</td>\n",
              "      <td>29.002513</td>\n",
              "      <td>183.937333</td>\n",
              "      <td>1915.798000</td>\n",
              "      <td>143.782000</td>\n",
              "      <td>0.150129</td>\n",
              "      <td>0.315932</td>\n",
              "      <td>0.179922</td>\n",
              "      <td>0.223575</td>\n",
              "      <td>...</td>\n",
              "      <td>32.966233</td>\n",
              "      <td>34.196800</td>\n",
              "      <td>215.154867</td>\n",
              "      <td>2625.640667</td>\n",
              "      <td>182.642000</td>\n",
              "      <td>0.273704</td>\n",
              "      <td>0.531993</td>\n",
              "      <td>0.287046</td>\n",
              "      <td>266.838667</td>\n",
              "      <td>0.092163</td>\n",
              "    </tr>\n",
              "    <tr>\n",
              "      <th>544</th>\n",
              "      <td>1</td>\n",
              "      <td>26.075060</td>\n",
              "      <td>36.593167</td>\n",
              "      <td>169.947733</td>\n",
              "      <td>1633.415333</td>\n",
              "      <td>0.126684</td>\n",
              "      <td>0.133937</td>\n",
              "      <td>186.528000</td>\n",
              "      <td>0.126826</td>\n",
              "      <td>0.226942</td>\n",
              "      <td>...</td>\n",
              "      <td>30.686447</td>\n",
              "      <td>49.546500</td>\n",
              "      <td>200.776667</td>\n",
              "      <td>2242.222000</td>\n",
              "      <td>0.151036</td>\n",
              "      <td>0.248963</td>\n",
              "      <td>0.416450</td>\n",
              "      <td>0.210880</td>\n",
              "      <td>0.333160</td>\n",
              "      <td>0.085971</td>\n",
              "    </tr>\n",
              "    <tr>\n",
              "      <th>545</th>\n",
              "      <td>1</td>\n",
              "      <td>21.502533</td>\n",
              "      <td>36.372960</td>\n",
              "      <td>140.284600</td>\n",
              "      <td>1111.525533</td>\n",
              "      <td>0.109520</td>\n",
              "      <td>0.132513</td>\n",
              "      <td>0.119831</td>\n",
              "      <td>0.068679</td>\n",
              "      <td>205.958000</td>\n",
              "      <td>...</td>\n",
              "      <td>24.585427</td>\n",
              "      <td>44.196773</td>\n",
              "      <td>164.118733</td>\n",
              "      <td>1455.954667</td>\n",
              "      <td>0.147538</td>\n",
              "      <td>0.400776</td>\n",
              "      <td>0.440802</td>\n",
              "      <td>0.183678</td>\n",
              "      <td>0.287305</td>\n",
              "      <td>0.101295</td>\n",
              "    </tr>\n",
              "    <tr>\n",
              "      <th>546</th>\n",
              "      <td>1</td>\n",
              "      <td>26.683867</td>\n",
              "      <td>37.992127</td>\n",
              "      <td>181.476200</td>\n",
              "      <td>1638.596667</td>\n",
              "      <td>0.152590</td>\n",
              "      <td>358.807333</td>\n",
              "      <td>0.455180</td>\n",
              "      <td>196.890667</td>\n",
              "      <td>0.310491</td>\n",
              "      <td>...</td>\n",
              "      <td>33.341880</td>\n",
              "      <td>51.062040</td>\n",
              "      <td>239.118533</td>\n",
              "      <td>2358.802000</td>\n",
              "      <td>213.730000</td>\n",
              "      <td>1.124479</td>\n",
              "      <td>1.215929</td>\n",
              "      <td>343.263333</td>\n",
              "      <td>0.529403</td>\n",
              "      <td>160.621333</td>\n",
              "    </tr>\n",
              "    <tr>\n",
              "      <th>547</th>\n",
              "      <td>0</td>\n",
              "      <td>10.051787</td>\n",
              "      <td>31.787480</td>\n",
              "      <td>62.072373</td>\n",
              "      <td>234.455333</td>\n",
              "      <td>0.068173</td>\n",
              "      <td>0.056502</td>\n",
              "      <td>0.000000</td>\n",
              "      <td>0.000000</td>\n",
              "      <td>0.205569</td>\n",
              "      <td>...</td>\n",
              "      <td>12248.672000</td>\n",
              "      <td>39.339273</td>\n",
              "      <td>76.631920</td>\n",
              "      <td>347.926533</td>\n",
              "      <td>0.116528</td>\n",
              "      <td>0.083471</td>\n",
              "      <td>0.000000</td>\n",
              "      <td>0.000000</td>\n",
              "      <td>0.371890</td>\n",
              "      <td>0.091179</td>\n",
              "    </tr>\n",
              "  </tbody>\n",
              "</table>\n",
              "<p>548 rows × 31 columns</p>\n",
              "</div>\n",
              "      <button class=\"colab-df-convert\" onclick=\"convertToInteractive('df-4b4652c4-fd62-4fdc-ade2-b94a3e47b23c')\"\n",
              "              title=\"Convert this dataframe to an interactive table.\"\n",
              "              style=\"display:none;\">\n",
              "        \n",
              "  <svg xmlns=\"http://www.w3.org/2000/svg\" height=\"24px\"viewBox=\"0 0 24 24\"\n",
              "       width=\"24px\">\n",
              "    <path d=\"M0 0h24v24H0V0z\" fill=\"none\"/>\n",
              "    <path d=\"M18.56 5.44l.94 2.06.94-2.06 2.06-.94-2.06-.94-.94-2.06-.94 2.06-2.06.94zm-11 1L8.5 8.5l.94-2.06 2.06-.94-2.06-.94L8.5 2.5l-.94 2.06-2.06.94zm10 10l.94 2.06.94-2.06 2.06-.94-2.06-.94-.94-2.06-.94 2.06-2.06.94z\"/><path d=\"M17.41 7.96l-1.37-1.37c-.4-.4-.92-.59-1.43-.59-.52 0-1.04.2-1.43.59L10.3 9.45l-7.72 7.72c-.78.78-.78 2.05 0 2.83L4 21.41c.39.39.9.59 1.41.59.51 0 1.02-.2 1.41-.59l7.78-7.78 2.81-2.81c.8-.78.8-2.07 0-2.86zM5.41 20L4 18.59l7.72-7.72 1.47 1.35L5.41 20z\"/>\n",
              "  </svg>\n",
              "      </button>\n",
              "      \n",
              "  <style>\n",
              "    .colab-df-container {\n",
              "      display:flex;\n",
              "      flex-wrap:wrap;\n",
              "      gap: 12px;\n",
              "    }\n",
              "\n",
              "    .colab-df-convert {\n",
              "      background-color: #E8F0FE;\n",
              "      border: none;\n",
              "      border-radius: 50%;\n",
              "      cursor: pointer;\n",
              "      display: none;\n",
              "      fill: #1967D2;\n",
              "      height: 32px;\n",
              "      padding: 0 0 0 0;\n",
              "      width: 32px;\n",
              "    }\n",
              "\n",
              "    .colab-df-convert:hover {\n",
              "      background-color: #E2EBFA;\n",
              "      box-shadow: 0px 1px 2px rgba(60, 64, 67, 0.3), 0px 1px 3px 1px rgba(60, 64, 67, 0.15);\n",
              "      fill: #174EA6;\n",
              "    }\n",
              "\n",
              "    [theme=dark] .colab-df-convert {\n",
              "      background-color: #3B4455;\n",
              "      fill: #D2E3FC;\n",
              "    }\n",
              "\n",
              "    [theme=dark] .colab-df-convert:hover {\n",
              "      background-color: #434B5C;\n",
              "      box-shadow: 0px 1px 3px 1px rgba(0, 0, 0, 0.15);\n",
              "      filter: drop-shadow(0px 1px 2px rgba(0, 0, 0, 0.3));\n",
              "      fill: #FFFFFF;\n",
              "    }\n",
              "  </style>\n",
              "\n",
              "      <script>\n",
              "        const buttonEl =\n",
              "          document.querySelector('#df-4b4652c4-fd62-4fdc-ade2-b94a3e47b23c button.colab-df-convert');\n",
              "        buttonEl.style.display =\n",
              "          google.colab.kernel.accessAllowed ? 'block' : 'none';\n",
              "\n",
              "        async function convertToInteractive(key) {\n",
              "          const element = document.querySelector('#df-4b4652c4-fd62-4fdc-ade2-b94a3e47b23c');\n",
              "          const dataTable =\n",
              "            await google.colab.kernel.invokeFunction('convertToInteractive',\n",
              "                                                     [key], {});\n",
              "          if (!dataTable) return;\n",
              "\n",
              "          const docLinkHtml = 'Like what you see? Visit the ' +\n",
              "            '<a target=\"_blank\" href=https://colab.research.google.com/notebooks/data_table.ipynb>data table notebook</a>'\n",
              "            + ' to learn more about interactive tables.';\n",
              "          element.innerHTML = '';\n",
              "          dataTable['output_type'] = 'display_data';\n",
              "          await google.colab.output.renderOutput(dataTable, element);\n",
              "          const docLink = document.createElement('div');\n",
              "          docLink.innerHTML = docLinkHtml;\n",
              "          element.appendChild(docLink);\n",
              "        }\n",
              "      </script>\n",
              "    </div>\n",
              "  </div>\n",
              "  "
            ]
          },
          "metadata": {},
          "execution_count": 4
        }
      ]
    },
    {
      "cell_type": "code",
      "source": [
        "dataFrame.info()\n"
      ],
      "metadata": {
        "colab": {
          "base_uri": "https://localhost:8080/"
        },
        "id": "At0_TX0LurSs",
        "outputId": "53764ff5-c70e-4109-ccac-361d8bb63e52"
      },
      "execution_count": 5,
      "outputs": [
        {
          "output_type": "stream",
          "name": "stdout",
          "text": [
            "<class 'pandas.core.frame.DataFrame'>\n",
            "RangeIndex: 548 entries, 0 to 547\n",
            "Data columns (total 31 columns):\n",
            " #   Column                     Non-Null Count  Dtype  \n",
            "---  ------                     --------------  -----  \n",
            " 0   Type                       548 non-null    int64  \n",
            " 1   URL_LENGTH                 548 non-null    float64\n",
            " 2   NUMBER_SPECIAL_CHARACTERS  548 non-null    float64\n",
            " 3   TCP_CONVERSATION_EXCHANGE  548 non-null    float64\n",
            " 4   DIST_REMOTE_TCP_PORT       548 non-null    float64\n",
            " 5   REMOTE_IPS                 548 non-null    float64\n",
            " 6   APP_BYTES                  548 non-null    float64\n",
            " 7   SOURCE_APP_PACKETS         548 non-null    float64\n",
            " 8   REMOTE_APP_PACKETS         548 non-null    float64\n",
            " 9   SOURCE_APP_BYTES           548 non-null    float64\n",
            " 10  REMOTE_APP_BYTES           548 non-null    float64\n",
            " 11  APP_PACKETS                548 non-null    float64\n",
            " 12  DNS_QUERY_TIMES            548 non-null    float64\n",
            " 13  SOURCE_A                   548 non-null    float64\n",
            " 14  SOURCE_B                   548 non-null    float64\n",
            " 15  SOURCE_C                   548 non-null    float64\n",
            " 16  SOURCE_D                   548 non-null    float64\n",
            " 17  SOURCE_F                   548 non-null    float64\n",
            " 18  SOURCE_E                   548 non-null    float64\n",
            " 19  SOURCE_G                   548 non-null    float64\n",
            " 20  SOURCE_H                   548 non-null    float64\n",
            " 21  SOURCE_I                   548 non-null    float64\n",
            " 22  SOURCE_J                   548 non-null    float64\n",
            " 23  SOURCE_K                   548 non-null    float64\n",
            " 24  SOURCE_M                   548 non-null    float64\n",
            " 25  SOURCE_L                   548 non-null    float64\n",
            " 26  SOURCE_N                   548 non-null    float64\n",
            " 27  SOURCE_O                   548 non-null    float64\n",
            " 28  SOURCE_P                   548 non-null    float64\n",
            " 29  SOURCE_R                   548 non-null    float64\n",
            " 30  SOURCE_S                   548 non-null    float64\n",
            "dtypes: float64(30), int64(1)\n",
            "memory usage: 132.8 KB\n"
          ]
        }
      ]
    },
    {
      "cell_type": "code",
      "source": [
        "dataFrame.describe()\n"
      ],
      "metadata": {
        "colab": {
          "base_uri": "https://localhost:8080/",
          "height": 394
        },
        "id": "TCfCSOlIusf8",
        "outputId": "359f59e8-7399-4738-dfc6-44ebf33584e0"
      },
      "execution_count": 6,
      "outputs": [
        {
          "output_type": "execute_result",
          "data": {
            "text/plain": [
              "             Type    URL_LENGTH  NUMBER_SPECIAL_CHARACTERS  \\\n",
              "count  548.000000    548.000000                 548.000000   \n",
              "mean     0.383212    949.973475                  25.015747   \n",
              "std      0.486613   3202.802599                   5.605685   \n",
              "min      0.000000     10.051787                  12.577687   \n",
              "25%      0.000000     15.838688                  20.987638   \n",
              "50%      0.000000     18.069900                  24.423510   \n",
              "75%      1.000000     23.264187                  28.270650   \n",
              "max      1.000000  12828.981333                  50.880693   \n",
              "\n",
              "       TCP_CONVERSATION_EXCHANGE  DIST_REMOTE_TCP_PORT  REMOTE_IPS  \\\n",
              "count                 548.000000            548.000000  548.000000   \n",
              "mean                  119.725438            857.123249    5.785481   \n",
              "std                    31.842845            461.579998   27.796268   \n",
              "min                    56.722647            185.880333    0.068173   \n",
              "25%                    97.470595            544.622900    0.112309   \n",
              "50%                   112.920683            723.637967    0.125084   \n",
              "75%                   137.175800           1037.270550    0.137694   \n",
              "max                   244.170333           3239.628667  159.326000   \n",
              "\n",
              "        APP_BYTES  SOURCE_APP_PACKETS  REMOTE_APP_PACKETS  SOURCE_APP_BYTES  \\\n",
              "count  548.000000          548.000000          548.000000        548.000000   \n",
              "mean     6.499737           10.069604            3.181365         22.809689   \n",
              "std     35.390031           46.976527           21.315640         70.942060   \n",
              "min      0.025104            0.000000            0.000000          0.151165   \n",
              "25%      0.084718            0.038394            0.026383          0.211755   \n",
              "50%      0.122720            0.085395            0.045304          0.235168   \n",
              "75%      0.172215            0.189799            0.101201          0.266159   \n",
              "max    358.807333          405.439333          209.844000        393.781333   \n",
              "\n",
              "       ...      SOURCE_I    SOURCE_J    SOURCE_K     SOURCE_M    SOURCE_L  \\\n",
              "count  ...    548.000000  548.000000  548.000000   548.000000  548.000000   \n",
              "mean   ...    399.714125   33.295952  139.830855  1155.666380   14.295530   \n",
              "std    ...   2117.405314    7.956699   44.017609   746.777340   49.075477   \n",
              "min    ...     10.271993   15.569907   65.297753   239.895733    0.105246   \n",
              "25%    ...     17.082208   27.325057  108.999062   667.971017    0.154501   \n",
              "50%    ...     19.838030   32.972710  127.117537   901.616767    0.173899   \n",
              "75%    ...     25.919620   38.698083  164.636867  1460.488333    0.194689   \n",
              "max    ...  12928.722000   64.170813  325.387733  5510.348000  239.636667   \n",
              "\n",
              "          SOURCE_N     SOURCE_O    SOURCE_P    SOURCE_R    SOURCE_S  \n",
              "count   548.000000   548.000000  548.000000  548.000000  548.000000  \n",
              "mean     32.855845    34.913670   11.758580   40.829159    2.637820  \n",
              "std     126.026487   149.880701   52.045464  119.531119   19.086225  \n",
              "min       0.044456     0.000000    0.000000    0.202720    0.071295  \n",
              "25%       0.196275     0.152558    0.084805    0.331022    0.093099  \n",
              "50%       0.297149     0.328950    0.132318    0.374869    0.103743  \n",
              "75%       0.497797     0.559098    0.223866    0.430342    0.119375  \n",
              "max    1370.462667  1621.757333  376.942000  704.661333  224.092667  \n",
              "\n",
              "[8 rows x 31 columns]"
            ],
            "text/html": [
              "\n",
              "  <div id=\"df-a46838b5-8578-456c-b058-719ab109a21d\">\n",
              "    <div class=\"colab-df-container\">\n",
              "      <div>\n",
              "<style scoped>\n",
              "    .dataframe tbody tr th:only-of-type {\n",
              "        vertical-align: middle;\n",
              "    }\n",
              "\n",
              "    .dataframe tbody tr th {\n",
              "        vertical-align: top;\n",
              "    }\n",
              "\n",
              "    .dataframe thead th {\n",
              "        text-align: right;\n",
              "    }\n",
              "</style>\n",
              "<table border=\"1\" class=\"dataframe\">\n",
              "  <thead>\n",
              "    <tr style=\"text-align: right;\">\n",
              "      <th></th>\n",
              "      <th>Type</th>\n",
              "      <th>URL_LENGTH</th>\n",
              "      <th>NUMBER_SPECIAL_CHARACTERS</th>\n",
              "      <th>TCP_CONVERSATION_EXCHANGE</th>\n",
              "      <th>DIST_REMOTE_TCP_PORT</th>\n",
              "      <th>REMOTE_IPS</th>\n",
              "      <th>APP_BYTES</th>\n",
              "      <th>SOURCE_APP_PACKETS</th>\n",
              "      <th>REMOTE_APP_PACKETS</th>\n",
              "      <th>SOURCE_APP_BYTES</th>\n",
              "      <th>...</th>\n",
              "      <th>SOURCE_I</th>\n",
              "      <th>SOURCE_J</th>\n",
              "      <th>SOURCE_K</th>\n",
              "      <th>SOURCE_M</th>\n",
              "      <th>SOURCE_L</th>\n",
              "      <th>SOURCE_N</th>\n",
              "      <th>SOURCE_O</th>\n",
              "      <th>SOURCE_P</th>\n",
              "      <th>SOURCE_R</th>\n",
              "      <th>SOURCE_S</th>\n",
              "    </tr>\n",
              "  </thead>\n",
              "  <tbody>\n",
              "    <tr>\n",
              "      <th>count</th>\n",
              "      <td>548.000000</td>\n",
              "      <td>548.000000</td>\n",
              "      <td>548.000000</td>\n",
              "      <td>548.000000</td>\n",
              "      <td>548.000000</td>\n",
              "      <td>548.000000</td>\n",
              "      <td>548.000000</td>\n",
              "      <td>548.000000</td>\n",
              "      <td>548.000000</td>\n",
              "      <td>548.000000</td>\n",
              "      <td>...</td>\n",
              "      <td>548.000000</td>\n",
              "      <td>548.000000</td>\n",
              "      <td>548.000000</td>\n",
              "      <td>548.000000</td>\n",
              "      <td>548.000000</td>\n",
              "      <td>548.000000</td>\n",
              "      <td>548.000000</td>\n",
              "      <td>548.000000</td>\n",
              "      <td>548.000000</td>\n",
              "      <td>548.000000</td>\n",
              "    </tr>\n",
              "    <tr>\n",
              "      <th>mean</th>\n",
              "      <td>0.383212</td>\n",
              "      <td>949.973475</td>\n",
              "      <td>25.015747</td>\n",
              "      <td>119.725438</td>\n",
              "      <td>857.123249</td>\n",
              "      <td>5.785481</td>\n",
              "      <td>6.499737</td>\n",
              "      <td>10.069604</td>\n",
              "      <td>3.181365</td>\n",
              "      <td>22.809689</td>\n",
              "      <td>...</td>\n",
              "      <td>399.714125</td>\n",
              "      <td>33.295952</td>\n",
              "      <td>139.830855</td>\n",
              "      <td>1155.666380</td>\n",
              "      <td>14.295530</td>\n",
              "      <td>32.855845</td>\n",
              "      <td>34.913670</td>\n",
              "      <td>11.758580</td>\n",
              "      <td>40.829159</td>\n",
              "      <td>2.637820</td>\n",
              "    </tr>\n",
              "    <tr>\n",
              "      <th>std</th>\n",
              "      <td>0.486613</td>\n",
              "      <td>3202.802599</td>\n",
              "      <td>5.605685</td>\n",
              "      <td>31.842845</td>\n",
              "      <td>461.579998</td>\n",
              "      <td>27.796268</td>\n",
              "      <td>35.390031</td>\n",
              "      <td>46.976527</td>\n",
              "      <td>21.315640</td>\n",
              "      <td>70.942060</td>\n",
              "      <td>...</td>\n",
              "      <td>2117.405314</td>\n",
              "      <td>7.956699</td>\n",
              "      <td>44.017609</td>\n",
              "      <td>746.777340</td>\n",
              "      <td>49.075477</td>\n",
              "      <td>126.026487</td>\n",
              "      <td>149.880701</td>\n",
              "      <td>52.045464</td>\n",
              "      <td>119.531119</td>\n",
              "      <td>19.086225</td>\n",
              "    </tr>\n",
              "    <tr>\n",
              "      <th>min</th>\n",
              "      <td>0.000000</td>\n",
              "      <td>10.051787</td>\n",
              "      <td>12.577687</td>\n",
              "      <td>56.722647</td>\n",
              "      <td>185.880333</td>\n",
              "      <td>0.068173</td>\n",
              "      <td>0.025104</td>\n",
              "      <td>0.000000</td>\n",
              "      <td>0.000000</td>\n",
              "      <td>0.151165</td>\n",
              "      <td>...</td>\n",
              "      <td>10.271993</td>\n",
              "      <td>15.569907</td>\n",
              "      <td>65.297753</td>\n",
              "      <td>239.895733</td>\n",
              "      <td>0.105246</td>\n",
              "      <td>0.044456</td>\n",
              "      <td>0.000000</td>\n",
              "      <td>0.000000</td>\n",
              "      <td>0.202720</td>\n",
              "      <td>0.071295</td>\n",
              "    </tr>\n",
              "    <tr>\n",
              "      <th>25%</th>\n",
              "      <td>0.000000</td>\n",
              "      <td>15.838688</td>\n",
              "      <td>20.987638</td>\n",
              "      <td>97.470595</td>\n",
              "      <td>544.622900</td>\n",
              "      <td>0.112309</td>\n",
              "      <td>0.084718</td>\n",
              "      <td>0.038394</td>\n",
              "      <td>0.026383</td>\n",
              "      <td>0.211755</td>\n",
              "      <td>...</td>\n",
              "      <td>17.082208</td>\n",
              "      <td>27.325057</td>\n",
              "      <td>108.999062</td>\n",
              "      <td>667.971017</td>\n",
              "      <td>0.154501</td>\n",
              "      <td>0.196275</td>\n",
              "      <td>0.152558</td>\n",
              "      <td>0.084805</td>\n",
              "      <td>0.331022</td>\n",
              "      <td>0.093099</td>\n",
              "    </tr>\n",
              "    <tr>\n",
              "      <th>50%</th>\n",
              "      <td>0.000000</td>\n",
              "      <td>18.069900</td>\n",
              "      <td>24.423510</td>\n",
              "      <td>112.920683</td>\n",
              "      <td>723.637967</td>\n",
              "      <td>0.125084</td>\n",
              "      <td>0.122720</td>\n",
              "      <td>0.085395</td>\n",
              "      <td>0.045304</td>\n",
              "      <td>0.235168</td>\n",
              "      <td>...</td>\n",
              "      <td>19.838030</td>\n",
              "      <td>32.972710</td>\n",
              "      <td>127.117537</td>\n",
              "      <td>901.616767</td>\n",
              "      <td>0.173899</td>\n",
              "      <td>0.297149</td>\n",
              "      <td>0.328950</td>\n",
              "      <td>0.132318</td>\n",
              "      <td>0.374869</td>\n",
              "      <td>0.103743</td>\n",
              "    </tr>\n",
              "    <tr>\n",
              "      <th>75%</th>\n",
              "      <td>1.000000</td>\n",
              "      <td>23.264187</td>\n",
              "      <td>28.270650</td>\n",
              "      <td>137.175800</td>\n",
              "      <td>1037.270550</td>\n",
              "      <td>0.137694</td>\n",
              "      <td>0.172215</td>\n",
              "      <td>0.189799</td>\n",
              "      <td>0.101201</td>\n",
              "      <td>0.266159</td>\n",
              "      <td>...</td>\n",
              "      <td>25.919620</td>\n",
              "      <td>38.698083</td>\n",
              "      <td>164.636867</td>\n",
              "      <td>1460.488333</td>\n",
              "      <td>0.194689</td>\n",
              "      <td>0.497797</td>\n",
              "      <td>0.559098</td>\n",
              "      <td>0.223866</td>\n",
              "      <td>0.430342</td>\n",
              "      <td>0.119375</td>\n",
              "    </tr>\n",
              "    <tr>\n",
              "      <th>max</th>\n",
              "      <td>1.000000</td>\n",
              "      <td>12828.981333</td>\n",
              "      <td>50.880693</td>\n",
              "      <td>244.170333</td>\n",
              "      <td>3239.628667</td>\n",
              "      <td>159.326000</td>\n",
              "      <td>358.807333</td>\n",
              "      <td>405.439333</td>\n",
              "      <td>209.844000</td>\n",
              "      <td>393.781333</td>\n",
              "      <td>...</td>\n",
              "      <td>12928.722000</td>\n",
              "      <td>64.170813</td>\n",
              "      <td>325.387733</td>\n",
              "      <td>5510.348000</td>\n",
              "      <td>239.636667</td>\n",
              "      <td>1370.462667</td>\n",
              "      <td>1621.757333</td>\n",
              "      <td>376.942000</td>\n",
              "      <td>704.661333</td>\n",
              "      <td>224.092667</td>\n",
              "    </tr>\n",
              "  </tbody>\n",
              "</table>\n",
              "<p>8 rows × 31 columns</p>\n",
              "</div>\n",
              "      <button class=\"colab-df-convert\" onclick=\"convertToInteractive('df-a46838b5-8578-456c-b058-719ab109a21d')\"\n",
              "              title=\"Convert this dataframe to an interactive table.\"\n",
              "              style=\"display:none;\">\n",
              "        \n",
              "  <svg xmlns=\"http://www.w3.org/2000/svg\" height=\"24px\"viewBox=\"0 0 24 24\"\n",
              "       width=\"24px\">\n",
              "    <path d=\"M0 0h24v24H0V0z\" fill=\"none\"/>\n",
              "    <path d=\"M18.56 5.44l.94 2.06.94-2.06 2.06-.94-2.06-.94-.94-2.06-.94 2.06-2.06.94zm-11 1L8.5 8.5l.94-2.06 2.06-.94-2.06-.94L8.5 2.5l-.94 2.06-2.06.94zm10 10l.94 2.06.94-2.06 2.06-.94-2.06-.94-.94-2.06-.94 2.06-2.06.94z\"/><path d=\"M17.41 7.96l-1.37-1.37c-.4-.4-.92-.59-1.43-.59-.52 0-1.04.2-1.43.59L10.3 9.45l-7.72 7.72c-.78.78-.78 2.05 0 2.83L4 21.41c.39.39.9.59 1.41.59.51 0 1.02-.2 1.41-.59l7.78-7.78 2.81-2.81c.8-.78.8-2.07 0-2.86zM5.41 20L4 18.59l7.72-7.72 1.47 1.35L5.41 20z\"/>\n",
              "  </svg>\n",
              "      </button>\n",
              "      \n",
              "  <style>\n",
              "    .colab-df-container {\n",
              "      display:flex;\n",
              "      flex-wrap:wrap;\n",
              "      gap: 12px;\n",
              "    }\n",
              "\n",
              "    .colab-df-convert {\n",
              "      background-color: #E8F0FE;\n",
              "      border: none;\n",
              "      border-radius: 50%;\n",
              "      cursor: pointer;\n",
              "      display: none;\n",
              "      fill: #1967D2;\n",
              "      height: 32px;\n",
              "      padding: 0 0 0 0;\n",
              "      width: 32px;\n",
              "    }\n",
              "\n",
              "    .colab-df-convert:hover {\n",
              "      background-color: #E2EBFA;\n",
              "      box-shadow: 0px 1px 2px rgba(60, 64, 67, 0.3), 0px 1px 3px 1px rgba(60, 64, 67, 0.15);\n",
              "      fill: #174EA6;\n",
              "    }\n",
              "\n",
              "    [theme=dark] .colab-df-convert {\n",
              "      background-color: #3B4455;\n",
              "      fill: #D2E3FC;\n",
              "    }\n",
              "\n",
              "    [theme=dark] .colab-df-convert:hover {\n",
              "      background-color: #434B5C;\n",
              "      box-shadow: 0px 1px 3px 1px rgba(0, 0, 0, 0.15);\n",
              "      filter: drop-shadow(0px 1px 2px rgba(0, 0, 0, 0.3));\n",
              "      fill: #FFFFFF;\n",
              "    }\n",
              "  </style>\n",
              "\n",
              "      <script>\n",
              "        const buttonEl =\n",
              "          document.querySelector('#df-a46838b5-8578-456c-b058-719ab109a21d button.colab-df-convert');\n",
              "        buttonEl.style.display =\n",
              "          google.colab.kernel.accessAllowed ? 'block' : 'none';\n",
              "\n",
              "        async function convertToInteractive(key) {\n",
              "          const element = document.querySelector('#df-a46838b5-8578-456c-b058-719ab109a21d');\n",
              "          const dataTable =\n",
              "            await google.colab.kernel.invokeFunction('convertToInteractive',\n",
              "                                                     [key], {});\n",
              "          if (!dataTable) return;\n",
              "\n",
              "          const docLinkHtml = 'Like what you see? Visit the ' +\n",
              "            '<a target=\"_blank\" href=https://colab.research.google.com/notebooks/data_table.ipynb>data table notebook</a>'\n",
              "            + ' to learn more about interactive tables.';\n",
              "          element.innerHTML = '';\n",
              "          dataTable['output_type'] = 'display_data';\n",
              "          await google.colab.output.renderOutput(dataTable, element);\n",
              "          const docLink = document.createElement('div');\n",
              "          docLink.innerHTML = docLinkHtml;\n",
              "          element.appendChild(docLink);\n",
              "        }\n",
              "      </script>\n",
              "    </div>\n",
              "  </div>\n",
              "  "
            ]
          },
          "metadata": {},
          "execution_count": 6
        }
      ]
    },
    {
      "cell_type": "code",
      "source": [
        "dataFrame.corr()[\"Type\"].sort_values()\n"
      ],
      "metadata": {
        "colab": {
          "base_uri": "https://localhost:8080/"
        },
        "id": "HKLedVojuvR8",
        "outputId": "875720e9-c34e-4f31-9fbb-1f10b2bf7cca"
      },
      "execution_count": 7,
      "outputs": [
        {
          "output_type": "execute_result",
          "data": {
            "text/plain": [
              "URL_LENGTH                  -0.228422\n",
              "SOURCE_I                    -0.138708\n",
              "SOURCE_B                    -0.128587\n",
              "SOURCE_APP_BYTES            -0.086080\n",
              "SOURCE_C                    -0.075369\n",
              "REMOTE_APP_BYTES            -0.048806\n",
              "SOURCE_G                    -0.017433\n",
              "DNS_QUERY_TIMES             -0.011055\n",
              "SOURCE_F                    -0.007551\n",
              "SOURCE_E                     0.001985\n",
              "SOURCE_L                     0.022932\n",
              "SOURCE_D                     0.029479\n",
              "SOURCE_H                     0.055045\n",
              "SOURCE_O                     0.063622\n",
              "SOURCE_R                     0.069140\n",
              "SOURCE_N                     0.088076\n",
              "APP_BYTES                    0.096659\n",
              "REMOTE_IPS                   0.126232\n",
              "SOURCE_APP_PACKETS           0.129433\n",
              "REMOTE_APP_PACKETS           0.139874\n",
              "SOURCE_S                     0.141134\n",
              "SOURCE_P                     0.205141\n",
              "APP_PACKETS                  0.240818\n",
              "NUMBER_SPECIAL_CHARACTERS    0.412095\n",
              "SOURCE_J                     0.453197\n",
              "SOURCE_A                     0.536539\n",
              "DIST_REMOTE_TCP_PORT         0.710294\n",
              "SOURCE_M                     0.734002\n",
              "TCP_CONVERSATION_EXCHANGE    0.744570\n",
              "SOURCE_K                     0.784173\n",
              "Type                         1.000000\n",
              "Name: Type, dtype: float64"
            ]
          },
          "metadata": {},
          "execution_count": 7
        }
      ]
    },
    {
      "cell_type": "code",
      "source": [
        "import matplotlib.pyplot as plt\n",
        "import seaborn as sbn"
      ],
      "metadata": {
        "id": "-k2EWFk_vB1q"
      },
      "execution_count": 8,
      "outputs": []
    },
    {
      "cell_type": "code",
      "source": [
        "sbn.countplot(x=\"Type\", data = dataFrame)\n"
      ],
      "metadata": {
        "colab": {
          "base_uri": "https://localhost:8080/",
          "height": 297
        },
        "id": "JOg10jcwvDun",
        "outputId": "0e4f99d5-0eac-4b86-930b-5ac48fb824d7"
      },
      "execution_count": 9,
      "outputs": [
        {
          "output_type": "execute_result",
          "data": {
            "text/plain": [
              "<matplotlib.axes._subplots.AxesSubplot at 0x7f7258483590>"
            ]
          },
          "metadata": {},
          "execution_count": 9
        },
        {
          "output_type": "display_data",
          "data": {
            "text/plain": [
              "<Figure size 432x288 with 1 Axes>"
            ],
            "image/png": "[encoded data removed]"
          },
          "metadata": {
            "needs_background": "light"
          }
        }
      ]
    },
    {
      "cell_type": "code",
      "source": [
        "dataFrame.corr()[\"Type\"].sort_values().plot(kind=\"bar\")\n"
      ],
      "metadata": {
        "colab": {
          "base_uri": "https://localhost:8080/",
          "height": 434
        },
        "id": "Ma5879YovG-E",
        "outputId": "f1c45dcf-40e7-49ff-efac-382d52aaf16b"
      },
      "execution_count": 10,
      "outputs": [
        {
          "output_type": "execute_result",
          "data": {
            "text/plain": [
              "<matplotlib.axes._subplots.AxesSubplot at 0x7f7257475850>"
            ]
          },
          "metadata": {},
          "execution_count": 10
        },
        {
          "output_type": "display_data",
          "data": {
            "text/plain": [
              "<Figure size 432x288 with 1 Axes>"
            ],
            "image/png": "[encoded data removed]"
          },
          "metadata": {
            "needs_background": "light"
          }
        }
      ]
    },
    {
      "cell_type": "code",
      "source": [
        "y = dataFrame[\"Type\"].values\n",
        "x = dataFrame.drop(\"Type\",axis = 1).values"
      ],
      "metadata": {
        "id": "v7_51WXOvJ7T"
      },
      "execution_count": 11,
      "outputs": []
    },
    {
      "cell_type": "code",
      "source": [
        "from sklearn.model_selection import train_test_split\n"
      ],
      "metadata": {
        "id": "WnkPvREOvLDd"
      },
      "execution_count": 12,
      "outputs": []
    },
    {
      "cell_type": "code",
      "source": [
        "x_train, x_test, y_train, y_test = train_test_split(x,y,test_size=0.3,random_state=15)\n"
      ],
      "metadata": {
        "id": "6EQ-JiyQvQvi"
      },
      "execution_count": 13,
      "outputs": []
    },
    {
      "cell_type": "code",
      "source": [
        "from sklearn.preprocessing import MinMaxScaler\n",
        "scaler = MinMaxScaler()\n",
        "scaler.fit(x_train)"
      ],
      "metadata": {
        "colab": {
          "base_uri": "https://localhost:8080/"
        },
        "id": "qin1b3jSvSbb",
        "outputId": "222b02eb-2035-4d75-e976-8820aa484107"
      },
      "execution_count": 14,
      "outputs": [
        {
          "output_type": "execute_result",
          "data": {
            "text/plain": [
              "MinMaxScaler()"
            ]
          },
          "metadata": {},
          "execution_count": 14
        }
      ]
    },
    {
      "cell_type": "code",
      "source": [
        "x_train = scaler.transform(x_train)\n"
      ],
      "metadata": {
        "id": "Eai7eWBDvUec"
      },
      "execution_count": 15,
      "outputs": []
    },
    {
      "cell_type": "code",
      "source": [
        "x_test = scaler.transform(x_test)\n"
      ],
      "metadata": {
        "id": "Asz08EPgvVuP"
      },
      "execution_count": 16,
      "outputs": []
    },
    {
      "cell_type": "code",
      "source": [
        "import tensorflow as tf\n",
        "from tensorflow.keras.models import Sequential\n",
        "from tensorflow.keras.layers import Dense, Activation, Dropout\n",
        "from tensorflow.keras.callbacks import EarlyStopping"
      ],
      "metadata": {
        "id": "_8jrAEqqvXVk"
      },
      "execution_count": 17,
      "outputs": []
    },
    {
      "cell_type": "code",
      "source": [
        "x_train.shape\n"
      ],
      "metadata": {
        "colab": {
          "base_uri": "https://localhost:8080/"
        },
        "id": "wOr8LXU5vbHC",
        "outputId": "28f9ba92-7b5d-4680-e79e-056abb295089"
      },
      "execution_count": 18,
      "outputs": [
        {
          "output_type": "execute_result",
          "data": {
            "text/plain": [
              "(383, 30)"
            ]
          },
          "metadata": {},
          "execution_count": 18
        }
      ]
    },
    {
      "cell_type": "code",
      "source": [
        "model = Sequential()\n",
        "\n",
        "model.add(Dense(units=30,activation = \"relu\"))\n",
        "model.add(Dense(units=15,activation = \"relu\"))\n",
        "model.add(Dense(units=15,activation = \"relu\"))\n",
        "model.add(Dense(units=1,activation = \"sigmoid\"))\n",
        "\n",
        "model.compile(loss=\"binary_crossentropy\",optimizer = \"adam\")"
      ],
      "metadata": {
        "id": "9iDmJE-DzK4c"
      },
      "execution_count": 19,
      "outputs": []
    },
    {
      "cell_type": "code",
      "source": [
        "model.fit(x=x_train, y=y_train, epochs=700,validation_data=(x_test,y_test),verbose=1)\n"
      ],
      "metadata": {
        "id": "59uLEVXlzVRv"
      },
      "execution_count": null,
      "outputs": []
    },
    {
      "cell_type": "code",
      "source": [
        "model.history.history\n"
      ],
      "metadata": {
        "id": "7h9VEyElzvw7"
      },
      "execution_count": null,
      "outputs": []
    },
    {
      "cell_type": "code",
      "source": [
        "modelKaybi = pd.DataFrame(model.history.history)\n"
      ],
      "metadata": {
        "id": "kzATpqTiz0R7"
      },
      "execution_count": 22,
      "outputs": []
    },
    {
      "cell_type": "code",
      "source": [
        "modelKaybi.plot()\n"
      ],
      "metadata": {
        "colab": {
          "base_uri": "https://localhost:8080/",
          "height": 282
        },
        "id": "ZyNUYqRUz1mE",
        "outputId": "44a1e03b-3b8e-47f5-8091-3233234fd1c3"
      },
      "execution_count": 23,
      "outputs": [
        {
          "output_type": "execute_result",
          "data": {
            "text/plain": [
              "<matplotlib.axes._subplots.AxesSubplot at 0x7f71f3b8df10>"
            ]
          },
          "metadata": {},
          "execution_count": 23
        },
        {
          "output_type": "display_data",
          "data": {
            "text/plain": [
              "<Figure size 432x288 with 1 Axes>"
            ],
            "image/png": "[encoded data removed]"
          },
          "metadata": {
            "needs_background": "light"
          }
        }
      ]
    },
    {
      "cell_type": "code",
      "source": [
        "model = Sequential()\n",
        "\n",
        "model.add(Dense(units=30,activation = \"relu\"))\n",
        "model.add(Dense(units=15,activation = \"relu\"))\n",
        "model.add(Dense(units=15,activation = \"relu\"))\n",
        "model.add(Dense(units=1,activation = \"sigmoid\"))\n",
        "\n",
        "model.compile(loss=\"binary_crossentropy\",optimizer = \"adam\")"
      ],
      "metadata": {
        "id": "KRrDddSZ0tlC"
      },
      "execution_count": 24,
      "outputs": []
    },
    {
      "cell_type": "code",
      "source": [
        "earlyStopping = EarlyStopping(monitor=\"val_loss\",mode=\"min\",verbose=1,patience=25)\n"
      ],
      "metadata": {
        "id": "EqyiVKo70uic"
      },
      "execution_count": 25,
      "outputs": []
    },
    {
      "cell_type": "code",
      "source": [
        "model.fit(x=x_train, y=y_train, epochs = 700, validation_data = (x_test,y_test), verbose = 1, callbacks=[earlyStopping])\n"
      ],
      "metadata": {
        "id": "0zJrOdmX1Dxa"
      },
      "execution_count": null,
      "outputs": []
    },
    {
      "cell_type": "code",
      "source": [
        "modelKaybi = pd.DataFrame(model.history.history)\n"
      ],
      "metadata": {
        "id": "B91HKl0X1Rkl"
      },
      "execution_count": 27,
      "outputs": []
    },
    {
      "cell_type": "code",
      "source": [
        "modelKaybi.plot()\n"
      ],
      "metadata": {
        "colab": {
          "base_uri": "https://localhost:8080/",
          "height": 282
        },
        "id": "-6RLvPQR1Sjk",
        "outputId": "f33864fd-a086-4bcb-b426-2553f9d1d6e8"
      },
      "execution_count": 28,
      "outputs": [
        {
          "output_type": "execute_result",
          "data": {
            "text/plain": [
              "<matplotlib.axes._subplots.AxesSubplot at 0x7f71f8038590>"
            ]
          },
          "metadata": {},
          "execution_count": 28
        },
        {
          "output_type": "display_data",
          "data": {
            "text/plain": [
              "<Figure size 432x288 with 1 Axes>"
            ],
            "image/png": "[encoded data removed]"
          },
          "metadata": {
            "needs_background": "light"
          }
        }
      ]
    },
    {
      "cell_type": "code",
      "source": [
        "model = Sequential()\n",
        "\n",
        "model.add(Dense(units=30,activation = \"relu\"))\n",
        "model.add(Dropout(0.6))\n",
        "\n",
        "model.add(Dense(units=15,activation = \"relu\"))\n",
        "model.add(Dropout(0.6))\n",
        "\n",
        "model.add(Dense(units=15,activation = \"relu\"))\n",
        "model.add(Dropout(0.6))\n",
        "\n",
        "model.add(Dense(units=1,activation = \"sigmoid\"))\n",
        "\n",
        "model.compile(loss=\"binary_crossentropy\",optimizer = \"adam\")"
      ],
      "metadata": {
        "id": "oPdoSJ-r1cW0"
      },
      "execution_count": 30,
      "outputs": []
    },
    {
      "cell_type": "code",
      "source": [
        "model.fit(x=x_train, y=y_train, epochs = 700, validation_data = (x_test,y_test), verbose = 1, callbacks=[earlyStopping])\n"
      ],
      "metadata": {
        "id": "vdNQ_7SD1emx"
      },
      "execution_count": null,
      "outputs": []
    },
    {
      "cell_type": "code",
      "source": [
        "kayipDf = pd.DataFrame(model.history.history)\n"
      ],
      "metadata": {
        "id": "ngUzTQTg2MnN"
      },
      "execution_count": 32,
      "outputs": []
    },
    {
      "cell_type": "code",
      "source": [
        "kayipDf.plot()\n"
      ],
      "metadata": {
        "colab": {
          "base_uri": "https://localhost:8080/",
          "height": 282
        },
        "id": "U_1ABQK52Oqc",
        "outputId": "d003ffbf-903c-4d08-abef-7ad4a649e26a"
      },
      "execution_count": 33,
      "outputs": [
        {
          "output_type": "execute_result",
          "data": {
            "text/plain": [
              "<matplotlib.axes._subplots.AxesSubplot at 0x7f71f7dff250>"
            ]
          },
          "metadata": {},
          "execution_count": 33
        },
        {
          "output_type": "display_data",
          "data": {
            "text/plain": [
              "<Figure size 432x288 with 1 Axes>"
            ],
            "image/png": "[encoded data removed]"
          },
          "metadata": {
            "needs_background": "light"
          }
        }
      ]
    },
    {
      "cell_type": "code",
      "source": [
        "from tensorflow import keras\n",
        "print(keras.__version__)"
      ],
      "metadata": {
        "colab": {
          "base_uri": "https://localhost:8080/"
        },
        "id": "zNUKlksx2zFw",
        "outputId": "6b54bc03-b104-48cf-bcb0-22d9b29c88a9"
      },
      "execution_count": 41,
      "outputs": [
        {
          "output_type": "stream",
          "name": "stdout",
          "text": [
            "2.9.0\n"
          ]
        }
      ]
    },
    {
      "cell_type": "code",
      "source": [
        "tahminlerimiz = model.predict(x_test)\n"
      ],
      "metadata": {
        "colab": {
          "base_uri": "https://localhost:8080/"
        },
        "id": "gvaYzUwr2S6z",
        "outputId": "ec7e5834-395d-4b89-a91f-a16b62526f36"
      },
      "execution_count": 45,
      "outputs": [
        {
          "output_type": "stream",
          "name": "stdout",
          "text": [
            "6/6 [==============================] - 0s 3ms/step\n"
          ]
        }
      ]
    },
    {
      "cell_type": "code",
      "source": [
        "tahminlerimiz"
      ],
      "metadata": {
        "colab": {
          "base_uri": "https://localhost:8080/"
        },
        "id": "98bB57mb2VEO",
        "outputId": "5790c407-b984-42e3-a59b-22c54b1b4ee0"
      },
      "execution_count": 46,
      "outputs": [
        {
          "output_type": "execute_result",
          "data": {
            "text/plain": [
              "array([[5.21649381e-05],\n",
              "       [9.99249101e-01],\n",
              "       [4.63570096e-03],\n",
              "       [9.95624363e-01],\n",
              "       [6.77497650e-04],\n",
              "       [9.81911302e-01],\n",
              "       [4.50665737e-03],\n",
              "       [1.22578949e-01],\n",
              "       [9.49891746e-01],\n",
              "       [3.13971378e-02],\n",
              "       [2.29180660e-02],\n",
              "       [1.91366181e-01],\n",
              "       [3.82823646e-06],\n",
              "       [1.34440633e-02],\n",
              "       [9.98142123e-01],\n",
              "       [8.52444708e-01],\n",
              "       [5.02406154e-04],\n",
              "       [6.64165795e-01],\n",
              "       [2.38852426e-02],\n",
              "       [8.81309330e-01],\n",
              "       [9.23524439e-01],\n",
              "       [3.10748070e-03],\n",
              "       [9.76263165e-01],\n",
              "       [3.22796077e-01],\n",
              "       [9.99635696e-01],\n",
              "       [9.35938239e-01],\n",
              "       [9.96500671e-01],\n",
              "       [5.03172632e-03],\n",
              "       [2.96030194e-04],\n",
              "       [9.98975515e-01],\n",
              "       [8.79283696e-02],\n",
              "       [1.53838366e-04],\n",
              "       [9.02039051e-01],\n",
              "       [9.94542420e-01],\n",
              "       [4.25107777e-03],\n",
              "       [1.05406754e-04],\n",
              "       [6.97206438e-01],\n",
              "       [3.36742140e-02],\n",
              "       [2.19109338e-02],\n",
              "       [8.11616063e-01],\n",
              "       [9.12501395e-01],\n",
              "       [4.00093355e-04],\n",
              "       [3.88599634e-02],\n",
              "       [1.60655975e-10],\n",
              "       [8.99534225e-02],\n",
              "       [9.99949574e-01],\n",
              "       [9.53083336e-01],\n",
              "       [2.50849785e-10],\n",
              "       [9.99971867e-01],\n",
              "       [9.26017482e-03],\n",
              "       [8.40886041e-11],\n",
              "       [9.98348556e-03],\n",
              "       [3.14293236e-01],\n",
              "       [1.38617277e-01],\n",
              "       [9.99716580e-01],\n",
              "       [2.58251335e-02],\n",
              "       [9.99372840e-01],\n",
              "       [8.13442394e-02],\n",
              "       [9.91653383e-01],\n",
              "       [9.97441351e-01],\n",
              "       [5.78886711e-13],\n",
              "       [7.85427517e-04],\n",
              "       [3.35112563e-03],\n",
              "       [5.88837452e-03],\n",
              "       [5.78421028e-03],\n",
              "       [3.13277729e-03],\n",
              "       [4.25203238e-03],\n",
              "       [8.97624530e-04],\n",
              "       [8.14016014e-02],\n",
              "       [8.66159680e-04],\n",
              "       [8.67933989e-01],\n",
              "       [9.99928415e-01],\n",
              "       [9.92351830e-01],\n",
              "       [1.06015602e-06],\n",
              "       [9.91077244e-01],\n",
              "       [4.35312837e-02],\n",
              "       [1.47543708e-02],\n",
              "       [1.39203752e-04],\n",
              "       [4.51210979e-03],\n",
              "       [7.92063400e-03],\n",
              "       [9.98449564e-01],\n",
              "       [7.88620412e-01],\n",
              "       [9.99891818e-01],\n",
              "       [9.94315922e-01],\n",
              "       [7.14383602e-01],\n",
              "       [1.80605964e-13],\n",
              "       [9.97931778e-01],\n",
              "       [1.58596225e-02],\n",
              "       [7.58223683e-02],\n",
              "       [9.99640882e-01],\n",
              "       [3.52312019e-03],\n",
              "       [4.21656668e-02],\n",
              "       [9.99971211e-01],\n",
              "       [9.97990429e-01],\n",
              "       [9.86335337e-01],\n",
              "       [2.84303033e-11],\n",
              "       [8.50137949e-01],\n",
              "       [8.53357196e-01],\n",
              "       [4.33630892e-04],\n",
              "       [1.69489110e-11],\n",
              "       [9.99999940e-01],\n",
              "       [3.18082049e-02],\n",
              "       [8.18296914e-14],\n",
              "       [1.04911544e-14],\n",
              "       [9.97363687e-01],\n",
              "       [1.06982738e-02],\n",
              "       [2.29261792e-12],\n",
              "       [9.94412184e-01],\n",
              "       [9.56135333e-01],\n",
              "       [2.30159745e-01],\n",
              "       [9.99984741e-01],\n",
              "       [9.42446422e-06],\n",
              "       [6.34484217e-02],\n",
              "       [2.88901327e-04],\n",
              "       [2.13902220e-02],\n",
              "       [9.99999881e-01],\n",
              "       [9.99888897e-01],\n",
              "       [9.26486075e-01],\n",
              "       [5.29777445e-02],\n",
              "       [8.49510372e-01],\n",
              "       [9.44388926e-01],\n",
              "       [9.03109789e-01],\n",
              "       [9.57817063e-02],\n",
              "       [3.36812846e-02],\n",
              "       [1.59441752e-12],\n",
              "       [4.10765322e-04],\n",
              "       [2.49532402e-01],\n",
              "       [2.44856566e-01],\n",
              "       [1.66952304e-06],\n",
              "       [4.35541421e-01],\n",
              "       [9.99907315e-01],\n",
              "       [9.99939263e-01],\n",
              "       [9.98405993e-01],\n",
              "       [9.69652772e-01],\n",
              "       [6.87908456e-02],\n",
              "       [9.63906816e-04],\n",
              "       [1.03154639e-02],\n",
              "       [8.01794231e-03],\n",
              "       [9.87756648e-04],\n",
              "       [9.99183893e-01],\n",
              "       [1.61587611e-01],\n",
              "       [8.93918362e-09],\n",
              "       [1.43565116e-02],\n",
              "       [9.98364151e-01],\n",
              "       [7.32868195e-01],\n",
              "       [1.95552826e-01],\n",
              "       [8.07403028e-01],\n",
              "       [5.91727579e-03],\n",
              "       [2.02690484e-03],\n",
              "       [1.99021632e-03],\n",
              "       [9.73753035e-01],\n",
              "       [4.94823195e-02],\n",
              "       [8.17125976e-01],\n",
              "       [1.48362447e-10],\n",
              "       [9.59822714e-01],\n",
              "       [8.48199308e-01],\n",
              "       [9.98541296e-01],\n",
              "       [9.98879611e-01],\n",
              "       [8.12229693e-01],\n",
              "       [8.54246020e-01],\n",
              "       [9.97320890e-01],\n",
              "       [5.23751676e-01],\n",
              "       [9.99165297e-01],\n",
              "       [9.99794304e-01],\n",
              "       [2.63010012e-03]], dtype=float32)"
            ]
          },
          "metadata": {},
          "execution_count": 46
        }
      ]
    },
    {
      "cell_type": "code",
      "source": [],
      "metadata": {
        "id": "DnlYMsn43m30"
      },
      "execution_count": null,
      "outputs": []
    }
  ]
}